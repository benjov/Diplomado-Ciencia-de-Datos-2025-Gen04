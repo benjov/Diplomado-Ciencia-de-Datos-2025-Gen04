{
 "cells": [
  {
   "cell_type": "markdown",
   "id": "b7cfafec",
   "metadata": {
    "id": "b7cfafec",
    "papermill": {
     "duration": 0.012522,
     "end_time": "2023-03-15T23:44:59.540335",
     "exception": false,
     "start_time": "2023-03-15T23:44:59.527813",
     "status": "completed"
    },
    "tags": []
   },
   "source": [
    "# INTRODUCCIÓN A DEEP LEARNING\n",
    "\n",
    "## ¿Qué es el aprendizaje profundo?\n",
    "\n",
    "* Algunos de los avances más impresionantes en inteligencia artificial de los últimos años se han producido en el campo del aprendizaje profundo.\n",
    "\n",
    "* El procesamiento del lenguaje natural, el reconocimiento de imágenes y los juegos son tareas en las que los modelos de aprendizaje profundo se han acercado o incluso superado el rendimiento a nivel humano.\n",
    "\n",
    "* ¿Qué es el aprendizaje profundo? El aprendizaje profundo es un enfoque del aprendizaje automático que ha permitido identificar tipos de patrones complejos y jerárquicos que se encuentran en los conjuntos de datos más desafiantes del mundo real.\n",
    "\n",
    "El objetivo principal es presentar un proyecto sencillo de Deep Learning y practicar los principales usos de bibliotecas como `keras` o `tensorflow`."
   ]
  },
  {
   "cell_type": "markdown",
   "id": "180ec57f",
   "metadata": {
    "id": "180ec57f",
    "papermill": {
     "duration": 0.01151,
     "end_time": "2023-03-15T23:44:59.563675",
     "exception": false,
     "start_time": "2023-03-15T23:44:59.552165",
     "status": "completed"
    },
    "tags": []
   },
   "source": [
    "# Load Data\n"
   ]
  },
  {
   "cell_type": "code",
   "execution_count": null,
   "id": "24458684",
   "metadata": {
    "id": "24458684"
   },
   "outputs": [],
   "source": [
    "#!pip install tensorflow"
   ]
  },
  {
   "cell_type": "code",
   "execution_count": null,
   "id": "98df1401",
   "metadata": {
    "_cell_guid": "b1076dfc-b9ad-4769-8c92-a6c4dae69d19",
    "_uuid": "8f2839f25d086af736a60e9eeb907d3b93b6e0e5",
    "execution": {
     "iopub.execute_input": "2023-03-15T23:44:59.592127Z",
     "iopub.status.busy": "2023-03-15T23:44:59.591590Z",
     "iopub.status.idle": "2023-03-15T23:45:01.663966Z",
     "shell.execute_reply": "2023-03-15T23:45:01.662034Z"
    },
    "id": "98df1401",
    "papermill": {
     "duration": 2.089374,
     "end_time": "2023-03-15T23:45:01.666763",
     "exception": false,
     "start_time": "2023-03-15T23:44:59.577389",
     "status": "completed"
    },
    "tags": []
   },
   "outputs": [],
   "source": [
    "# first neural network with keras tutorial\n",
    "\n",
    "from numpy import loadtxt\n",
    "from tensorflow.keras.models import Sequential\n",
    "from tensorflow.keras.layers import Dense\n",
    "\n",
    "#\n",
    "import warnings\n",
    "warnings.filterwarnings('ignore')"
   ]
  },
  {
   "cell_type": "markdown",
   "id": "v8kMPnldvkGN",
   "metadata": {
    "id": "v8kMPnldvkGN"
   },
   "source": [
    "En esta clase de Keras, utilizaremos el conjunto de datos sobre el inicio de la diabetes de la población originaria Pima.\n",
    "\n",
    "Este es un conjunto de datos de aprendizaje automático estándar del repositorio [UCI Machine Learning](https://archive.ics.uci.edu/). Los datos consisten en los registros médicos de los indios Pima.\n",
    "\n",
    "Como tal, se trata de un problema de clasificación binaria (inicio de diabetes como 1 o no como 0).\n",
    "\n",
    "Todas las variables de entrada que describen a cada paciente son numéricas--esto facilita su uso directamente con redes neuronales que esperan valores numéricos de entrada y salida y es una opción ideal para nuestra primera red neuronal en Keras--.\n",
    "\n",
    "El conjunto de datos está disponible [aquí](https://raw.githubusercontent.com/jbrownlee/Datasets/master/pima-indians-diabetes.data.csv). Es un archivo CSV del conjunto de datos (pima-indians-diabetes.csv). Los detalles del conjunto de datos esta disponible [aquí](https://raw.githubusercontent.com/jbrownlee/Datasets/master/pima-indians-diabetes.names)."
   ]
  },
  {
   "cell_type": "markdown",
   "id": "E6GcwfXZMdWS",
   "metadata": {
    "id": "E6GcwfXZMdWS"
   },
   "source": [
    "The variables can be summarized as follows:\n",
    "\n",
    "Input Variables (X):\n",
    "\n",
    "* Number of times pregnant\n",
    "* Plasma glucose concentration at 2 hours in an oral glucose tolerance test\n",
    "* Diastolic blood pressure (mm Hg)\n",
    "* Triceps skin fold thickness (mm)\n",
    "* 2-hour serum insulin (mu U/ml)\n",
    "* Body mass index (weight in kg/(height in m)^2)\n",
    "* Diabetes pedigree function\n",
    "* Age (years)\n",
    "\n",
    "Output Variables (y):\n",
    "\n",
    "* Class variable (0 or 1)\n"
   ]
  },
  {
   "cell_type": "code",
   "execution_count": null,
   "id": "LneYsTRUSy1A",
   "metadata": {
    "colab": {
     "base_uri": "https://localhost:8080/"
    },
    "id": "LneYsTRUSy1A",
    "outputId": "4b4845a5-6fb7-4581-babd-2fbbb796fdee"
   },
   "outputs": [],
   "source": [
    "#\n",
    "dataset = loadtxt('https://raw.githubusercontent.com/jbrownlee/Datasets/master/pima-indians-diabetes.data.csv', delimiter=',')\n",
    "\n",
    "dataset"
   ]
  },
  {
   "cell_type": "code",
   "execution_count": null,
   "id": "_-Y46G4vSy32",
   "metadata": {
    "id": "_-Y46G4vSy32"
   },
   "outputs": [],
   "source": [
    "# split into input (X) and output (y) variables\n",
    "X = dataset[:,0:8]\n",
    "y = dataset[:,8]"
   ]
  },
  {
   "cell_type": "markdown",
   "id": "GDf75_ZDe895",
   "metadata": {
    "id": "GDf75_ZDe895"
   },
   "source": [
    "## Define Keras Model\n",
    "\n",
    "Los modelos en Keras se definen como una secuencia de capas.\n",
    "\n",
    "Creamos un modelo secuencial y agregamos capas una a la vez hasta que estemos satisfechos con nuestra arquitectura de red.\n",
    "\n",
    "Lo primero que hay que hacer es asegurarse de que la capa de entrada tenga la cantidad correcta de entidades de entrada. Esto se puede especificar al crear la primera capa con el argumento input_shape y configurarlo en (8,) para presentar las ocho variables de entrada como un vector.\n",
    "\n",
    "### ¿Cómo sabemos el número de capas y sus tipos?\n",
    "\n",
    "Esta es una pregunta complicada.\n",
    "\n",
    "Hay heurísticas que puede utilizar y, a menudo, la mejor estructura de red se encuentra mediante un proceso de experimentación de prueba y error.\n",
    "\n",
    "Generalmente, necesita una red lo suficientemente grande como para capturar la estructura del problema.\n",
    "\n",
    "En este ejemplo, usemos una estructura de red completamente conectada con tres capas.\n",
    "\n",
    "Las capas completamente conectadas se definen mediante la clase Dense.\n",
    "\n",
    "Puede especificar el número de neuronas o nodos en la capa como primer argumento y la función de activación utilizando el argumento de activación.\n",
    "\n",
    "**Además, utilizaremos la función de activación de unidad lineal rectificada denominada ReLU en las dos primeras capas y la función Sigmoidea en la capa de salida.**\n",
    "\n",
    "Solía darse el caso de que las funciones de activación Sigmoide y Tanh eran preferidas para todas las capas. Hoy en día, se logra un mejor rendimiento utilizando la función de activación ReLU.\n",
    "\n",
    "**El uso de un sigmoide en la capa de salida garantiza que la salida de su red esté entre 0 y 1 y es fácil de asignar a una probabilidad de clase 1 o ajustarse a una clasificación estricta de cualquier clase con un umbral predeterminado de 0.5.**\n",
    "\n",
    "En resumen:\n",
    "\n",
    "* El modelo espera filas de datos con 8 variables (el argumento input_shape =(8,)).\n",
    "* La primera capa oculta tiene 12 nodos y utiliza la función de activación ReLU.\n",
    "* La segunda capa oculta tiene 8 nodos y utiliza la función de activación ReLU.\n",
    "* La capa de salida tiene un nodo y utiliza la función de activación sigmoide."
   ]
  },
  {
   "cell_type": "code",
   "execution_count": null,
   "id": "B3dRjRkLSy9V",
   "metadata": {
    "id": "B3dRjRkLSy9V"
   },
   "outputs": [],
   "source": [
    "#\n",
    "model = Sequential()\n",
    "\n",
    "model.add(Dense(12, input_shape = (8,), activation = 'relu'))\n",
    "\n",
    "model.add(Dense(8, activation = 'relu'))\n",
    "\n",
    "model.add(Dense(1, activation = 'sigmoid'))"
   ]
  },
  {
   "cell_type": "markdown",
   "id": "y7tz_FaAjlrm",
   "metadata": {
    "id": "y7tz_FaAjlrm"
   },
   "source": [
    "## Compile Keras Model\n",
    "\n",
    "La compilación del modelo utiliza bibliotecas numéricas eficientes (el llamado backend), como Theano o TensorFlow.\n",
    "\n",
    "El backend elige automáticamente la mejor manera de representar la red para entrenar y hacer predicciones para ejecutar en su hardware, como CPU, GPU o incluso distribuido.\n",
    "\n",
    "Al compilar, se debe especificar algunas propiedades adicionales necesarias al entrenar la red. Recuerde entrenar una red significa encontrar el mejor conjunto de ponderaciones para asignar entradas a salidas en su conjunto de datos.\n",
    "\n",
    "Debe especificar la función de pérdida que se utilizará para evaluar un conjunto de ponderaciones, el optimizador utilizado para buscar diferentes ponderaciones para la red y cualquier métrica opcional que desee recopilar e informar durante el entrenamiento.\n",
    "\n",
    "En este caso, utilizamos la **entropía cruzada** como argumento de pérdida. Esta pérdida es para problemas de clasificación binaria y se define en Keras como \"binary_crossentropy\".\n",
    "\n",
    "Definiremos el optimizador como el eficiente algoritmo de descenso de gradiente estocástico \"adam\". Esta es una versión popular del descenso de gradiente porque se sintoniza automáticamente y da buenos resultados en una amplia gama de problemas.\n",
    "\n",
    "Finalmente, debido a que se trata de un problema de clasificación, recopilará e informará la precisión de la clasificación definida mediante el argumento de métricas."
   ]
  },
  {
   "cell_type": "code",
   "execution_count": null,
   "id": "UmxYLP9Vec42",
   "metadata": {
    "id": "UmxYLP9Vec42"
   },
   "outputs": [],
   "source": [
    "# compile the keras model\n",
    "model.compile(loss='binary_crossentropy', optimizer='adam', metrics=['accuracy'])"
   ]
  },
  {
   "cell_type": "markdown",
   "id": "wG9vQEcPkbMk",
   "metadata": {
    "id": "wG9vQEcPkbMk"
   },
   "source": [
    "## Fit Keras Model\n",
    "\n",
    "Ahora es el momento de ejecutar el modelo con algunos datos.\n",
    "\n",
    "Entrenamos o ajustamos el modelo a los datos cargados llamando a la función fit() en el modelo.\n",
    "\n",
    "El entrenamiento se produce a lo largo de épocas (epoch) y cada época se divide en lotes (batches).\n",
    "\n",
    "* Época: una pasada por todas las filas del conjunto de datos de entrenamiento\n",
    "\n",
    "* Lote: una o más muestras consideradas por el modelo dentro de una época antes de que se actualicen los pesos.\n",
    "\n",
    "**Una época comprende uno o más lotes, según el tamaño de lote elegido, y el modelo es apto para muchas épocas.**\n",
    "\n",
    "El proceso de entrenamiento se ejecutará durante un número fijo de épocas (iteraciones) a través del conjunto de datos que debe especificar mediante el argumento epochs.\n",
    "\n",
    "Se debe establecer el número de filas del conjunto de datos que se consideran antes de que se actualicen los pesos del modelo dentro de cada época, denominado tamaño de lote, y establecerlo mediante el argumento batch_size.\n",
    "\n",
    "Nuestro problema se ejecutará durante una pequeña cantidad de épocas (150) y utilizará un tamaño de lote relativamente pequeño de 10.\n",
    "\n",
    "**Estas configuraciones se pueden elegir experimentalmente mediante prueba y error.**"
   ]
  },
  {
   "cell_type": "code",
   "execution_count": null,
   "id": "bX1_CPbLec7d",
   "metadata": {
    "colab": {
     "base_uri": "https://localhost:8080/"
    },
    "id": "bX1_CPbLec7d",
    "outputId": "e1bad01b-037d-4173-e060-62c241036ed6"
   },
   "outputs": [],
   "source": [
    "# fit the keras model on the dataset\n",
    "model.fit(X, y, epochs=150, batch_size=10)"
   ]
  },
  {
   "cell_type": "markdown",
   "id": "a6ehamezl_7x",
   "metadata": {
    "id": "a6ehamezl_7x"
   },
   "source": [
    "## Evaluate Keras Model\n",
    "\n",
    "Una vez entrenada nuestra red neuronal en todo el conjunto de datos y podemos evaluar el rendimiento de la red en el mismo conjunto de datos.\n",
    "\n",
    "Esto nos dará una idea de qué tan bien ha modelado el conjunto de datos, pero no da idea de qué tan bien podría funcionar el algoritmo con datos nuevos.\n",
    "\n",
    "**Esto se hizo por simplicidad, pero lo ideal sería separar los datos en conjuntos de datos de entrenamiento y prueba para entrenar y evaluar su modelo.**\n",
    "\n",
    "Podemos evaluar el modelo en el conjunto de datos de entrenamiento usando la función evaluate() y pasarle la misma entrada y salida utilizada para entrenar el modelo.\n",
    "\n",
    "Esto generará una predicción para cada par de entrada y salida y recopilará puntuaciones, incluida la pérdida promedio y cualquier métrica que haya configurado, como la precisión.\n",
    "\n",
    "La función evaluate() devolverá una lista con dos valores. El primero será la pérdida del modelo en el conjunto de datos y el segundo será la precisión del modelo en el conjunto de datos. Habitualmente sólo interesa informar la precisión, así que podemos ignorar el valor de la pérdida."
   ]
  },
  {
   "cell_type": "code",
   "execution_count": null,
   "id": "nqS7c_Vgec-k",
   "metadata": {
    "colab": {
     "base_uri": "https://localhost:8080/"
    },
    "id": "nqS7c_Vgec-k",
    "outputId": "374bb454-efc3-4a05-adc4-e99612405972"
   },
   "outputs": [],
   "source": [
    "# evaluate the keras model\n",
    "_, accuracy = model.evaluate(X, y)\n",
    "print('Accuracy: %.2f' % (accuracy*100))"
   ]
  },
  {
   "cell_type": "markdown",
   "id": "tJ59iDhcnc3t",
   "metadata": {
    "id": "tJ59iDhcnc3t"
   },
   "source": [
    "## Nota importante:\n",
    "\n",
    "Si intenta ejecutar este ejemplo en una computadora portátil IPython o Jupyter, es posible que obtenga un error.\n",
    "\n",
    "El motivo son las barras de progreso de salida durante el entrenamiento. Puede desactivarlos fácilmente configurando verbose=0 en la llamada a las funciones fit() y evalua(); Por ejemplo:"
   ]
  },
  {
   "cell_type": "code",
   "execution_count": null,
   "id": "PGY2wtI4edBL",
   "metadata": {
    "id": "PGY2wtI4edBL"
   },
   "outputs": [],
   "source": [
    "# fit the keras model on the dataset without progress bars\n",
    "model.fit(X, y, epochs=150, batch_size=10, verbose=0)\n",
    "# evaluate the keras model\n",
    "_, accuracy = model.evaluate(X, y, verbose=0)"
   ]
  },
  {
   "cell_type": "markdown",
   "id": "uhofO3HxoFiW",
   "metadata": {
    "id": "uhofO3HxoFiW"
   },
   "source": [
    "## Make Predictions"
   ]
  },
  {
   "cell_type": "code",
   "execution_count": null,
   "id": "U3ko0zahedDy",
   "metadata": {
    "colab": {
     "base_uri": "https://localhost:8080/"
    },
    "id": "U3ko0zahedDy",
    "outputId": "f71ff0b2-6f0d-42a0-c41a-b98096f9cf34"
   },
   "outputs": [],
   "source": [
    "# make probability predictions with the model\n",
    "predictions = model.predict(X)\n",
    "\n",
    "predictions[:10]"
   ]
  },
  {
   "cell_type": "code",
   "execution_count": null,
   "id": "cbYFLYlwojl8",
   "metadata": {
    "colab": {
     "base_uri": "https://localhost:8080/"
    },
    "id": "cbYFLYlwojl8",
    "outputId": "be9720f9-6e04-4271-ed6f-02e471f4df51"
   },
   "outputs": [],
   "source": [
    "# round predictions\n",
    "rounded = [round(x[0]) for x in predictions]\n",
    "\n",
    "rounded[:10]"
   ]
  },
  {
   "cell_type": "code",
   "execution_count": null,
   "id": "mIEMxt2HedGZ",
   "metadata": {
    "colab": {
     "base_uri": "https://localhost:8080/"
    },
    "id": "mIEMxt2HedGZ",
    "outputId": "16a8962f-99f0-414b-fd11-8b3e11445456"
   },
   "outputs": [],
   "source": [
    "# Alternately, you can convert the probability into 0 or 1 to predict crisp classes directly; for example:\n",
    "\n",
    "# make class predictions with the model\n",
    "predictions = (model.predict(X) > 0.5).astype(int)\n",
    "\n",
    "predictions[:10]"
   ]
  },
  {
   "cell_type": "code",
   "execution_count": null,
   "id": "j72Cj_khoV2g",
   "metadata": {
    "id": "j72Cj_khoV2g"
   },
   "outputs": [],
   "source": []
  },
  {
   "cell_type": "code",
   "execution_count": null,
   "id": "mD0wprMLoV5X",
   "metadata": {
    "id": "mD0wprMLoV5X"
   },
   "outputs": [],
   "source": []
  }
 ],
 "metadata": {
  "colab": {
   "provenance": []
  },
  "kernelspec": {
   "display_name": "Python 3 (ipykernel)",
   "language": "python",
   "name": "python3"
  },
  "language_info": {
   "codemirror_mode": {
    "name": "ipython",
    "version": 3
   },
   "file_extension": ".py",
   "mimetype": "text/x-python",
   "name": "python",
   "nbconvert_exporter": "python",
   "pygments_lexer": "ipython3",
   "version": "3.10.14"
  },
  "papermill": {
   "default_parameters": {},
   "duration": 1666.680651,
   "end_time": "2023-03-16T00:12:37.486600",
   "environment_variables": {},
   "exception": null,
   "input_path": "__notebook__.ipynb",
   "output_path": "__notebook__.ipynb",
   "parameters": {},
   "start_time": "2023-03-15T23:44:50.805949",
   "version": "2.3.4"
  }
 },
 "nbformat": 4,
 "nbformat_minor": 5
}
