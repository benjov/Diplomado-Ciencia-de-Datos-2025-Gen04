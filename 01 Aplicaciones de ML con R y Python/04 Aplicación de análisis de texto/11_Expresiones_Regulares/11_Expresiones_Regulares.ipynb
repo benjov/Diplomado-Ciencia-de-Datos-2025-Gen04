{
 "cells": [
  {
   "cell_type": "markdown",
   "metadata": {},
   "source": [
    "# Expresiones regulares de Python \n",
    "\n",
    "## Introducción a NLP\n",
    "\n",
    "Actualización a febrero de 2024"
   ]
  },
  {
   "cell_type": "markdown",
   "metadata": {},
   "source": [
    "Las expresiones regulares son un lenguaje potente para hacer coincidir patrones de texto.\n",
    "\n",
    "Aquí ofrecemos una introducción básica a las expresiones regulares, suficiente para nuestros ejercicios.\n",
    "\n",
    "Mostramos cómo funcionan las expresiones regulares en Python. \n",
    "\n",
    "El módulo “re” de Python proporciona compatibilidad con expresiones regulares.\n"
   ]
  },
  {
   "cell_type": "code",
   "execution_count": 1,
   "metadata": {},
   "outputs": [],
   "source": [
    "# Dependencies\n",
    "import pandas as pd\n",
    "pd.set_option('display.max_columns', 200)\n",
    "import re\n",
    "\n",
    "#\n",
    "import warnings\n",
    "warnings.filterwarnings('ignore')"
   ]
  },
  {
   "cell_type": "code",
   "execution_count": 2,
   "metadata": {},
   "outputs": [],
   "source": [
    "#!pip install pip\n",
    "#!pip install re"
   ]
  },
  {
   "cell_type": "code",
   "execution_count": 3,
   "metadata": {},
   "outputs": [],
   "source": [
    "# Opciones de visualizació de cifras:\n",
    "pd.options.display.float_format = '{:,.2f}'.format #'${:,.2f}'"
   ]
  },
  {
   "cell_type": "markdown",
   "metadata": {},
   "source": [
    "## En Python, una búsqueda de expresiones regulares suele escribirse de la siguiente manera:\n",
    "\n",
    "match = re.search( pat, str )\n",
    "\n",
    "El método re.search() toma un patrón de expresión regular y una cadena de texto, y busca ese patrón dentro de la cadena. \n",
    "\n",
    "Si la búsqueda es exitosa, search() devuelve un objeto de coincidencia o None en caso contrario. \n",
    "\n",
    "Por lo tanto, la búsqueda suele ir inmediatamente seguida de una sentencia if para probar si la búsqueda se realizó correctamente (más información https://docs.python.org/3/library/re.html).\n",
    "\n",
    "Acá un ejemplo que busca el patrón \"word:\" seguido de una palabra de 3 letras (los detalles se muestran a continuación):"
   ]
  },
  {
   "cell_type": "code",
   "execution_count": 4,
   "metadata": {},
   "outputs": [
    {
     "data": {
      "text/plain": [
       "'word'"
      ]
     },
     "execution_count": 4,
     "metadata": {},
     "output_type": "execute_result"
    }
   ],
   "source": [
    "#\n",
    "Texto = 'an example word:cat!!'\n",
    "\n",
    "match = re.search(r'word', Texto )\n",
    "\n",
    "#match \n",
    "match.group()"
   ]
  },
  {
   "cell_type": "code",
   "execution_count": 5,
   "metadata": {},
   "outputs": [
    {
     "data": {
      "text/plain": [
       "'word:cat'"
      ]
     },
     "execution_count": 5,
     "metadata": {},
     "output_type": "execute_result"
    }
   ],
   "source": [
    "#\n",
    "Texto = 'an example word:cat!!'\n",
    "\n",
    "match = re.search(r'word:\\w\\w\\w', Texto )\n",
    "\n",
    "match.group()"
   ]
  },
  {
   "cell_type": "code",
   "execution_count": 6,
   "metadata": {},
   "outputs": [
    {
     "name": "stdout",
     "output_type": "stream",
     "text": [
      "found word:cat\n"
     ]
    }
   ],
   "source": [
    "#\n",
    "Texto = 'an example word:cat!!'\n",
    "\n",
    "match = re.search(r'word:\\w\\w\\w', Texto )\n",
    "\n",
    "# If-statement after search() tests if it succeeded\n",
    "if match:\n",
    "    print( 'found', match.group() ) ## 'found word:cat'\n",
    "else:\n",
    "    print('did not find')"
   ]
  },
  {
   "cell_type": "code",
   "execution_count": 7,
   "metadata": {},
   "outputs": [],
   "source": [
    "# Ejercicio...\n",
    "\n"
   ]
  },
  {
   "cell_type": "code",
   "execution_count": 8,
   "metadata": {},
   "outputs": [],
   "source": [
    "# Ejercicio...\n",
    "\n"
   ]
  },
  {
   "cell_type": "markdown",
   "metadata": {},
   "source": [
    "### Patrones básicos\n",
    "\n",
    "El poder de las expresiones regulares es que pueden especificar patrones, no solo caracteres fijos. Estos son los patrones más básicos que coinciden con caracteres individuales:\n",
    "\n",
    ". (un punto): coincide con cualquier carácter único, excepto la línea nueva '\\n'\n",
    "\n",
    "\\w -- (w minúscula) coincide con un carácter \"palabra\": una letra o un dígito o debajo de una barra [a-zA-Z0-9_ ].\n",
    "\n",
    "Ten en cuenta que, aunque \"word\" es el nombre mnemotécnico de esta palabra, solo coincide con el carácter de una sola palabra, no con una palabra completa. \n",
    "\n",
    "\\W -- (W mayúscula) coincide con cualquier carácter que no sea una palabra.\n",
    "\n",
    "\\b: límite entre una palabra y una que no lo es\n",
    "\n",
    "\\s -- (s minúscula) coincide con un solo carácter de espacio en blanco: espacio, línea nueva, retorno, tabulación, forma [ \\n\\r\\t\\f]. \n",
    "\n",
    "\\S -- (S mayúscula) coincide con cualquier carácter que no sea un espacio en blanco.\n",
    "\n",
    "\\t, \\n, \\r -- tabulación, nueva línea, volver\n",
    "\n",
    "\\d -- dígito decimal [0-9] \n",
    "\n",
    "^ = inicio, $ = fin -- coincide con el principio o el final de la cadena\n",
    "\n",
    "\\ -- inhiben la \"especialidad\" de un carácter. Por ejemplo, usa \\. para que coincida con un punto o \\\\ para que coincida con una barra. Si no estás seguro de si un carácter tiene un significado especial, como '@', puedes intentar colocar una barra delantera, \\@. Si no es una secuencia de escape válida, como \\c, tu programa Python se detendrá con un error."
   ]
  },
  {
   "cell_type": "code",
   "execution_count": 9,
   "metadata": {},
   "outputs": [
    {
     "data": {
      "text/plain": [
       "'iii'"
      ]
     },
     "execution_count": 9,
     "metadata": {},
     "output_type": "execute_result"
    }
   ],
   "source": [
    "## Search for pattern 'iii' in string 'piiig'.\n",
    "## All of the pattern must match, but it may appear anywhere.\n",
    "## On success, match.group() is matched text.\n",
    "\n",
    "match = re.search(r'iii', 'piiig') # found, match.group() == \"iii\"\n",
    "\n",
    "match.group()"
   ]
  },
  {
   "cell_type": "code",
   "execution_count": 10,
   "metadata": {},
   "outputs": [
    {
     "ename": "AttributeError",
     "evalue": "'NoneType' object has no attribute 'group'",
     "output_type": "error",
     "traceback": [
      "\u001b[0;31m---------------------------------------------------------------------------\u001b[0m",
      "\u001b[0;31mAttributeError\u001b[0m                            Traceback (most recent call last)",
      "Input \u001b[0;32mIn [10]\u001b[0m, in \u001b[0;36m<cell line: 5>\u001b[0;34m()\u001b[0m\n\u001b[1;32m      1\u001b[0m \u001b[38;5;66;03m#\u001b[39;00m\n\u001b[1;32m      3\u001b[0m match \u001b[38;5;241m=\u001b[39m re\u001b[38;5;241m.\u001b[39msearch(\u001b[38;5;124mr\u001b[39m\u001b[38;5;124m'\u001b[39m\u001b[38;5;124migs\u001b[39m\u001b[38;5;124m'\u001b[39m, \u001b[38;5;124m'\u001b[39m\u001b[38;5;124mpiiig\u001b[39m\u001b[38;5;124m'\u001b[39m) \u001b[38;5;66;03m# not found, match == None\u001b[39;00m\n\u001b[0;32m----> 5\u001b[0m \u001b[38;5;28;43;01mmatch\u001b[39;49;00m\u001b[38;5;241;43m.\u001b[39;49m\u001b[43mgroup\u001b[49m()\n",
      "\u001b[0;31mAttributeError\u001b[0m: 'NoneType' object has no attribute 'group'"
     ]
    }
   ],
   "source": [
    "#\n",
    "\n",
    "match = re.search(r'igs', 'piiig') # not found, match == None\n",
    "\n",
    "match.group()"
   ]
  },
  {
   "cell_type": "code",
   "execution_count": 11,
   "metadata": {},
   "outputs": [
    {
     "data": {
      "text/plain": [
       "'iig'"
      ]
     },
     "execution_count": 11,
     "metadata": {},
     "output_type": "execute_result"
    }
   ],
   "source": [
    "## . = any char but \\n\n",
    "\n",
    "match = re.search(r'..g', 'piiiig') # found, match.group() == \"iig\"\n",
    "\n",
    "match.group()"
   ]
  },
  {
   "cell_type": "code",
   "execution_count": 12,
   "metadata": {},
   "outputs": [
    {
     "data": {
      "text/plain": [
       "'123'"
      ]
     },
     "execution_count": 12,
     "metadata": {},
     "output_type": "execute_result"
    }
   ],
   "source": [
    "## \\d = digit char, \\w = word char\n",
    "\n",
    "match = re.search(r'\\d\\d\\d', 'p123g') # found, match.group() == \"123\"\n",
    "\n",
    "match.group()"
   ]
  },
  {
   "cell_type": "code",
   "execution_count": 13,
   "metadata": {},
   "outputs": [
    {
     "data": {
      "text/plain": [
       "'abc'"
      ]
     },
     "execution_count": 13,
     "metadata": {},
     "output_type": "execute_result"
    }
   ],
   "source": [
    "## \\d = digit char, \\w = word char\n",
    "\n",
    "match = re.search(r'\\w\\w\\w', '@@abcd!!') # found, match.group() == \"abc\"\n",
    "\n",
    "match.group()"
   ]
  },
  {
   "cell_type": "markdown",
   "metadata": {},
   "source": [
    "#### Repetición\n",
    "\n",
    "Todo se vuelve más interesante cuando utilizas + y * para especificar la repetición en el patrón.\n",
    "\n",
    "$+$ -- 1 o más apariciones del patrón a la izquierda, por ejemplo, \"i+\" = una o más i\n",
    "\n",
    "$*$ -- 0 o más apariciones del patrón a la izquierda\n",
    "\n",
    "? -- coinciden con 0 o 1 casos del patrón a la izquierda.\n",
    "\n",
    "##### Más a la izquierda y más grande\n",
    "\n",
    "Primero, la búsqueda encuentra la coincidencia que se encuentra más a la izquierda para el patrón y, en segundo lugar, intenta usar la mayor cantidad de cadenas posible; es decir, los signos + y * van lo más lejos posible (se dice que los signos + y * son \"codiciosos\").\n",
    "\n",
    "#### Ejemplos de repetición"
   ]
  },
  {
   "cell_type": "code",
   "execution_count": 14,
   "metadata": {},
   "outputs": [
    {
     "data": {
      "text/plain": [
       "'piiii'"
      ]
     },
     "execution_count": 14,
     "metadata": {},
     "output_type": "execute_result"
    }
   ],
   "source": [
    "## i+ = one or more i's, as many as possible.\n",
    "\n",
    "match = re.search(r'pi+', 'piiiig') # found, match.group() == \"piii\"\n",
    "\n",
    "match.group()"
   ]
  },
  {
   "cell_type": "code",
   "execution_count": 15,
   "metadata": {},
   "outputs": [
    {
     "data": {
      "text/plain": [
       "'ii'"
      ]
     },
     "execution_count": 15,
     "metadata": {},
     "output_type": "execute_result"
    }
   ],
   "source": [
    "# Finds the first/leftmost solution, and within it drives the +\n",
    "## as far as possible (aka 'leftmost and largest').\n",
    "## In this example, note that it does not get to the second set of i's.\n",
    "\n",
    "match = re.search(r'i+', 'piigiiii') # found, match.group() == \"ii\"\n",
    "\n",
    "match.group()"
   ]
  },
  {
   "cell_type": "code",
   "execution_count": 16,
   "metadata": {},
   "outputs": [
    {
     "data": {
      "text/plain": [
       "'1 2   3'"
      ]
     },
     "execution_count": 16,
     "metadata": {},
     "output_type": "execute_result"
    }
   ],
   "source": [
    "## \\s* = zero or more whitespace chars\n",
    "## Here look for 3 digits, possibly separated by whitespace.\n",
    "\n",
    "match = re.search(r'\\d\\s*\\d\\s*\\d', 'xx1 2   3xx') # found, match.group() == \"1 2   3\"\n",
    "\n",
    "match.group()"
   ]
  },
  {
   "cell_type": "code",
   "execution_count": 17,
   "metadata": {},
   "outputs": [
    {
     "data": {
      "text/plain": [
       "'12  3'"
      ]
     },
     "execution_count": 17,
     "metadata": {},
     "output_type": "execute_result"
    }
   ],
   "source": [
    "#\n",
    "\n",
    "match = re.search(r'\\d\\s*\\d\\s*\\d', 'xx12  3xx') # found, match.group() == \"12  3\"\n",
    "\n",
    "match.group()"
   ]
  },
  {
   "cell_type": "code",
   "execution_count": 18,
   "metadata": {},
   "outputs": [
    {
     "data": {
      "text/plain": [
       "'123'"
      ]
     },
     "execution_count": 18,
     "metadata": {},
     "output_type": "execute_result"
    }
   ],
   "source": [
    "#\n",
    "\n",
    "match = re.search(r'\\d\\s*\\d\\s*\\d', 'xx123xx') # found, match.group() == \"123\"\n",
    "\n",
    "match.group()"
   ]
  },
  {
   "cell_type": "markdown",
   "metadata": {},
   "source": [
    "#### Ejemplo de correos electrónicos\n",
    "\n",
    "Supongamos que quieres encontrar la dirección de correo electrónico dentro de la cadena \"purple alice-b@google.com monkey dishwasher\". \n",
    "\n",
    "Usaremos esto como un ejemplo en ejecución para demostrar más funciones de expresiones regulares. \n",
    "\n",
    "\n",
    "En este intento, se usa el patrón r'\\w+@\\w+':"
   ]
  },
  {
   "cell_type": "code",
   "execution_count": 19,
   "metadata": {},
   "outputs": [
    {
     "data": {
      "text/plain": [
       "'b@google'"
      ]
     },
     "execution_count": 19,
     "metadata": {},
     "output_type": "execute_result"
    }
   ],
   "source": [
    "#\n",
    "\n",
    "Texto = 'purple alice-b@google.com monkey dishwasher'\n",
    "\n",
    "match = re.search( r'\\w+@\\w+', Texto )\n",
    "\n",
    "#if match:\n",
    "#    print(match.group())  ## 'b@google'\n",
    "\n",
    "match.group()"
   ]
  },
  {
   "cell_type": "markdown",
   "metadata": {},
   "source": [
    "En este caso, la búsqueda no obtiene la dirección de correo electrónico completa porque la “\\w” no coincide con el “-” o el “.” de la dirección. \n",
    "\n",
    "Solucionaremos este problema con las funciones de expresiones regulares que aparecen a continuación.\n",
    "\n",
    "#### Corchetes\n",
    "\n",
    "Se pueden usar corchetes para indicar un conjunto de caracteres, por lo que [abc] coincide con “a”, “b” o “c”. Los códigos \\w, \\s, etc. también funcionan entre corchetes, con la excepción de que el punto (.) solo se refiere a un punto literal. \n",
    "\n",
    "Para el problema de los correos electrónicos, los corchetes son una forma fácil de agregar “.” y “-” al conjunto de caracteres que pueden aparecer alrededor de la @ con el patrón r'[\\w.-]+@[\\w.-]+' para obtener toda la dirección de correo electrónico:"
   ]
  },
  {
   "cell_type": "code",
   "execution_count": 20,
   "metadata": {},
   "outputs": [
    {
     "data": {
      "text/plain": [
       "'alice-b@google.com'"
      ]
     },
     "execution_count": 20,
     "metadata": {},
     "output_type": "execute_result"
    }
   ],
   "source": [
    "#\n",
    "\n",
    "Texto = 'purple alice-b@google.com monkey dishwasher'\n",
    "\n",
    "match = re.search( r'[\\w.-]+@[\\w.-]+', Texto )\n",
    "\n",
    "#if match:\n",
    "#    print(match.group())  ## 'alice-b@google.com'\n",
    "    \n",
    "match.group()"
   ]
  },
  {
   "cell_type": "markdown",
   "metadata": {},
   "source": [
    "#### Más funciones entre corchetes\n",
    "\n",
    "También puedes usar un guion para indicar un rango, de modo que [a-z] coincida con todas las letras minúsculas. \n",
    "\n",
    "Para usar un guion sin indicar un rango, coloca el guion en último lugar; p.ej., [abc-]. \n",
    "\n",
    "Un sombrero arriba (^) al comienzo de un conjunto de corchetes (^) lo invierte, de modo que [^ab] significa cualquier carácter excepto “a” o “b”."
   ]
  },
  {
   "cell_type": "code",
   "execution_count": 21,
   "metadata": {},
   "outputs": [],
   "source": [
    "# Ejercicio...\n",
    "\n"
   ]
  },
  {
   "cell_type": "code",
   "execution_count": 22,
   "metadata": {},
   "outputs": [],
   "source": [
    "# Ejercicio...\n",
    "\n"
   ]
  },
  {
   "cell_type": "markdown",
   "metadata": {},
   "source": [
    "#### Extracción de grupos\n",
    "\n",
    "La función \"group()\" de una expresión regular te permite seleccionar partes del texto coincidente. \n",
    "\n",
    "Supongamos que, para el problema de los correos electrónicos, queremos extraer el nombre de usuario y el host por separado. \n",
    "\n",
    "Para hacerlo, agrega paréntesis ( ) alrededor del nombre de usuario y host en el patrón, de esta manera: r'([\\w.-]+)@([\\w.-]+)'. En este caso, los paréntesis no cambian con qué coincidirá el patrón, sino que establecen \"grupos\" lógicos dentro del texto de coincidencia. \n",
    "\n",
    "En una búsqueda correcta, match.group(1) es el texto de coincidencia correspondiente al primer paréntesis izquierdo y match.group(2) es el texto correspondiente al segundo paréntesis izquierdo. \n",
    "\n",
    "El match.group() sin formato sigue siendo el texto completo de coincidencia, como es habitual."
   ]
  },
  {
   "cell_type": "code",
   "execution_count": 23,
   "metadata": {},
   "outputs": [
    {
     "name": "stdout",
     "output_type": "stream",
     "text": [
      "alice-b@google.com\n",
      "alice-b\n",
      "google.com\n"
     ]
    }
   ],
   "source": [
    "#\n",
    "\n",
    "Texto = 'purple alice-b@google.com monkey dishwasher'\n",
    "\n",
    "match = re.search(r'([\\w.-]+)@([\\w.-]+)', Texto)\n",
    "\n",
    "if match:\n",
    "    print(match.group())   ## 'alice-b@google.com' (the whole match)\n",
    "    print(match.group(1))  ## 'alice-b' (the username, group 1)\n",
    "    print(match.group(2))  ## 'google.com' (the host, group 2)"
   ]
  },
  {
   "cell_type": "markdown",
   "metadata": {},
   "source": [
    "Un flujo de trabajo común con expresiones regulares es escribir un patrón para lo que estás buscando y agregar grupos de paréntesis para extraer las partes que deseas.\n",
    "\n",
    "#### findall -- encontrartodo\n",
    "\n",
    "findall() es probablemente la función más poderosa del módulo re. \n",
    "\n",
    "Arriba usamos re.search() para encontrar la primera coincidencia de un patrón. \n",
    "\n",
    "findall() encuentra *todas* las coincidencias y las muestra como una lista de cadenas, donde cada cadena representa una coincidencia."
   ]
  },
  {
   "cell_type": "code",
   "execution_count": 24,
   "metadata": {},
   "outputs": [
    {
     "data": {
      "text/plain": [
       "['alice@google.com', 'bob@abc.com']"
      ]
     },
     "execution_count": 24,
     "metadata": {},
     "output_type": "execute_result"
    }
   ],
   "source": [
    "## Suppose we have a text with many email addresses\n",
    "\n",
    "Texto = 'purple alice@google.com, blah monkey bob@abc.com blah dishwasher'\n",
    "\n",
    "## Here re.findall() returns a list of all the found email strings\n",
    "\n",
    "emails = re.findall(r'[\\w\\.-]+@[\\w\\.-]+', Texto) ## ['alice@google.com', 'bob@abc.com']\n",
    "\n",
    "#for email in emails:\n",
    "#    # do something with each found email string\n",
    "#    print(email)\n",
    "\n",
    "emails"
   ]
  },
  {
   "cell_type": "markdown",
   "metadata": {},
   "source": [
    "#### findall con Files\n",
    "\n",
    "Para los archivos, es posible que tu plan sea escribir un bucle para iterar sobre las líneas del archivo y, luego, podrías llamar a findall() en cada línea. \n",
    "\n",
    "En su lugar, deja que findall() haga la iteración por ti, ¡mucho mejor! \n",
    "\n",
    "Simplemente ingresa todo el texto del archivo en findall() y deja que devuelva una lista de todas las coincidencias en un solo paso (recuerda que f.read() devuelve todo el texto de un archivo en una sola cadena):"
   ]
  },
  {
   "cell_type": "code",
   "execution_count": 25,
   "metadata": {},
   "outputs": [
    {
     "data": {
      "text/plain": [
       "' \\nVERSIÓN PÚBLICA \\nUnidad Administrativa que clasifica: \\nSecretaría Técnica \\nNúmero de acta y fecha en la que se aprobó por el Comité: \\nCOT-004-2023 – 25 de enero de 2023 \\nDescripción del documento: \\nVersión pública de la Versión Estenográfica de la primera sesión ordinaria del Pleno  de la \\nComisión Federal de Competencia Económica celebrada el cinco de enero de dos mil veintitrés. \\nTipo de información clasificada y fundamento legal: \\nInformación confidencial  \\nLa información testada e identificada con la letra B es confidencial en términos de los artículos 113, \\nfracción III, de la Ley Federal de Transparencia y Acceso a la Información Públi ca, 116, último párrafo, de \\nla Ley General de Transparencia y Acceso a la Información Públ ica, así como Cuadragésimo de \\nlos Lineamientos Generales en Materia de Clasificación y Desclasifica ción de la Información, así como para \\nla Elaboración de Versiones Públicas , en relación con los artículos   3, fracción IX, 124 y 125 de la Ley Federal \\nde Competencia Económica , toda vez que fue presentada con ese carácter a este sujeto obligado ten iendo \\nderecho a ello, en virtud de que puede causar un daño o perjuicio en la posición co mpetitiva de su titular \\nya que comprende hechos y actos de carácter económico y jurídico relativos a una pe rsona moral. \\nPeriodo de reserva: No aplica.  \\nPáginas que contienen información clasificada: \\n3. \\nFidel Gerardo Sierra Aranda \\nSecretario Técnico  \\nKarla Moctezuma Bautista \\nCoordinadora General de Acuerdos \\nSello Digital No. Certificado Fecha\\nJjxLHtJwCPNYeABHOUR+DdavJV43RHraM48a\\nMDc/FvmUWcSEPSjA2nt0gRm+lMrUoHUVWor5\\n/6L98KT/w3eobqQlRT4wuVpEJ/JU0asOJ9TlAeL\\nEs4GBNP9p/jQjdrGE20/9HTpijr7T3Bu7uhyWmW\\nCK92yPCgm84j11i++PfmwtzQmWrWwrRvjYRdV\\nAyvdRYFm7mq6CK/2+LsfkwL4Q9N1r8REZBnh7\\n9pfPBUZY7sJTGftkPz47KIq7mUkHw+WANSf2/J\\ngrdiPNdzStaS9OxoEdby14GeqQfpv4Eb4wSsm7\\nKrnR4M/0I3/qssFYQa1Hb7xWmxs/V86GMbMEq\\nSe0og==00001000000511731923 jueves, 26 de enero de 2023, 10:54 a. m. \\nFIDEL GERARDO SIERRA ARANDA\\nTU/N43tUS2mwTc1mR1QY87cvtO2rcwoP/Rxew\\nuF5rcMxRjXjpDfhPjom/u04w7mKHKJy15JX0J/uq\\n9DviB0V4BBEAfJXNMOInIxXG+ZEKswsOW19/S\\n4mv+uK89RoSOJcDqlSP2L6P+oechgUziAFc40P\\n1ejs8fS0PHdeDmBwMcyWujAhNtRuhTkdULBDV\\nZdCh9xznVT0+oZweAzWsapsfvi9cWI3XCZNZ9L\\nJla/Z40gfg4MA0kb0Qwh9eDBRBjyICvQmYRsj1\\nOQQ8ooyCai35WGkz8tU8lva+3++9kEwLvvudbK\\nbv2Hzd6s8gUVziCgZb1EZtcTpwHn4XQBS29AG\\nVg==00001000000510304919 miércoles, 25 de enero de 2023, 04:53 p. m. \\nKARLA MOCTEZUMA BAUTISTANúmero de Expediente: ART. 72 F II INCISO A 1A\\nNúmero de Páginas: 2VERSIÓN ESTENOGRÁFICA 1ª SESIÓN ORDINARIA DE PLENO DE 05 DE ENERO  DE 202 3 \\n1 ________________________________________________________________________________  \\nCOMISIÓN FEDERAL DE COMPETENCIA ECONÓMICA  \\n1ª. SESIÓN ORDINARIA DEL PLENO, CELEBRADA  \\nEL CINCO  DE ENERO  DE DOS MIL VEINTI TRÉS  \\nVERSIÓN ESTENOGRÁFICA  \\n__________________________________________________________________  \\nBrenda Gisela Hernández Ramírez (BGHR ): Buen a tarde . Hoy, cinco  de enero  de dos mil \\nveinti trés, siendo las trece  horas con  un minuto , de conformidad con lo establecido en el \\nartículo 18 de los Lineamientos para el funcionamiento del Pleno de esta Comisión Federal \\nde Competencia Económica, aprobados mediante Acuerdo  de nueve de septiembre de dos \\nmil veinti uno, celebramos de manera remota la sesión ordinaria número uno del Pleno de la \\nComisión Federal de Competencia Económica, a través de la plataforma electrónica \\n[Microsoft]  Teams .  \\nAntes de iniciar, debo señalar que esta sesión será pública con la versión estenog ráfica que \\nse publique en el sitio de Internet de la Comisión, en términos del artículo 47 de las \\nDisposiciones Regulatorias de la Ley Federal de Competencia E conómica y demás \\ndisposiciones jurídicas aplic ables.  \\nA continuación, c edo la palabra al Secretario Técnico  para que dé fe respecto de la \\ninvitación realizada a los Comisionados  para unirse a esta sesión remota  del Pleno , así como \\npara que dé cuenta de quiénes de ellos se encuentran incorporados . \\nFidel Gerardo Sierra Aranda (FGSA):  Gracias,  Comisionada Presidente.  \\nHago constar que realicé la invitación para incorporarse a esta sesión a cada uno de los \\nComisionados que conforman el Pleno de la Comisión Federal de Competencia Económica , \\na través de sus cuentas institucionales y utilizando como software Microsoft Teams .  \\nAsimismo, doy fe de que del audio o del vídeo de Microsoft Teams se advierte la \\nincorporación de los siguientes Comisionados a esta sesión remota: Brenda Gisela \\nHernández  Ramírez, quien actúa como Presidente de la Comisión, en términos del  artículo \\n19 de la Ley Federal de Competencia Económica; Andrea Mar ván Saltiel; Ana María \\nReséndiz Mora; José Eduardo Mendoza Contreras y Alejandro Faya Rodríguez.  \\nMuchas gracias.  \\nBGHR:  Gracias,  Secretario Técnico.  \\nEl Orden del Día de la presente sesión fue circulada con anterioridad a los i ntegrantes del \\nPleno que , a partir del trece de diciembre de dos mil veintidós, somos c inco, existiendo dos \\nvacantes .  \\nY aprovecho la oportunidad de dar la bienvenida a la Comisionada [Andrea] Marván [Sal tiel] \\na la primera sesión del Pleno en la que participa.  \\nAdicionalmente , pregunto a mis colegas  si ¿están de acuerdo en aprobar el Orden del Día \\no quisieran hacer alguna modificación?  \\n¿Comisionada [Andrea] Marván [Saltiel] ? VERSIÓN ESTENOGRÁFICA 1ª SESIÓN ORDINARIA DE PLENO DE 05 DE ENERO  DE 202 3 \\n2 Andrea Marván Saltiel (AMS):  Muchas gracias, Comisionada [Presidenta].  \\nMe gustaría hacer una modificación a la Orden del Día, específicamente  respecto  a los \\nAcuerdos relacionados con las investigaciones para determinar la existencia de barreras a \\nla competencia e insumos esenciales, toda vez que al respect o de estas dos  investigaciones \\nse está valorando la presentación de excusas.  Por lo tanto, les solicitaría que se b ajen del \\nOrden del Día . \\nBGHR:  Gracias, Comisionada [Andrea] Marván [Saltiel].  \\nPregunto al resto de Comisionados si ¿están de acuerdo en la modificación solicit ada?  \\nJosé Eduardo Mendoza Contreras (JEMC):  De acuerdo.  \\nBGHR:  Entiendo que el resto también  y, en consecuencia,  con el ajuste referido, inicio con \\nel desahogo de la Orden del Día.  \\nComo primer punto de la Orden del Día tenemos la presentación, discus ión y, en su caso,  \\naprobación  de las Actas correspondientes a la cuadragésima cuarta y cuad ragésima quinta \\nsesiones ordinaria del Pleno de  la Comisión Federal de Competencia Económica , \\ncelebradas el cinco y ocho de diciembre de dos mil dos (sic) [ veintidós ], respectivamente , \\nasí como la octava sesión excepcional del nueve de diciembre de dos mil veintidós .  \\nSi no tienen comentarios, les pediría que los Comisionados que estuvieron presentes en l as \\nsesiones correspondientes expresaran si están de acuerdo en la aprobación  de cada una \\nde ellas, para lo cual las iré  mencionado en lo individual y le  pido al Secretario Técnico que \\ndé fe de la misma forma.  \\nRespecto del Acta correspondiente a la cuadragésima cuarta sesión ordinaria, celebrada el \\ncinco de diciembre de dos mil veintidós.  \\nAlejandro Faya Rodríguez  (AFR ): Alejandro Faya Rodríguez , a favor.  \\nJEMC:  José Eduardo Mendoza Contreras, a favor.  \\nAna María Reséndiz Mora  (AMRM ): Ana María Reséndiz Mora, a favor.  \\nBGHR:  Brenda Gisela Hernández Ramírez, a favor.  \\nFGSA:  Doy cuenta de que existe unanimidad de cuatro votos por aprobar el Acta \\ncorrespondiente a la cuadragésim [a] cuarta sesión ordinaria  del Pleno  de la Comisión , \\ncelebrada el cinco de diciembre de dos mil veintidós . \\nBGHR:  Respecto del Acta correspondiente a la cuadragésima quinta sesión ordinaria , \\ncelebrada el ocho de diciembre de dos mil veintidós.  \\nAFR:  Alejandro Faya Rodríguez, a favor.  \\nJEMC:  José Eduardo Mendoza Contreras, a favor.  \\nAMRM:  Ana María Reséndiz Mora, a favor.  \\nBGHR:  Brenda Gisela Hernández Ramírez, a favor.  \\nFGSA:  Doy cuenta de que existe unanimidad de cuatro votos por aprobar el Acta \\ncorrespondiente a la cuadragésim [a] quinta  sesión ordinaria del Pleno  de la Comisión , \\ncelebrada el ocho  de diciembre de dos mil veintidós.  VERSIÓN ESTENOGRÁFICA 1ª SESIÓN ORDINARIA DE PLENO DE 05 DE ENERO  DE 202 3 \\n3 BGHR: Respecto del Acta correspondiente a la octava  sesión excepcional  del nueve  de \\ndiciembre de dos mil veintidós.  \\nAFR:  Alejandro Faya Rodríguez, a favor.  \\nJEMC:  José Eduardo Mendoza Contreras, a favor.  \\nAMRM:  Ana María Reséndiz Mora, a favor.  \\nBGHR:  Brenda  Gisela Hernández Ramírez, a favor.  \\nFGSA:  Doy cuenta de que existe  también  unanimidad de cuatro votos por aprobar el Acta \\ncorrespondiente a la octava sesión excepcional del Pleno de la Comisión, celebrada e l \\nnueve de diciembre de dos mil veintidós.  \\nBGHR:  Como segundo punto de la Orden del Día  tenemos la presentación, discusión  y, en \\nsu caso, resolución sobre la concentración entre Dufry AG; Schema Beta S.p.A . y Edizione \\nS.p.A ., que corresponde al expedien te CNT-139-2022  y cedo la palabra al Comisionado \\nPonente José Eduardo Mendoza Contreras . \\nJEMC:  Gracias, Comisionada Presidenta . \\nLa operación notificada  consiste en : [i] la cesión por parte de Schema Beta [S.p.A  (“Schema \\nBeta”) ] del  de las acciones de Autogrill [S.p.A  (“Autogrill”) ]  \\n [ii] la emisión y \\nentrega a Schema Beta   \\n de las acciones de \\nDufry, a cambio de lo señalado en el punto anterior.  De manera posterior, Dufry  lanzará una \\noferta pública de adquisición obligatoria, de acuerdo con las normas de cotización i talianas, \\npara adquirir el resto de las acciones de Autogrill que cotizan en la bolsa itali ana. \\nLa operación actualiza la fracción III del artículo 86 de la Le y Federal de Competencia \\nEconómica ,  \\n y, en nuestra opinión, en la opinión de la ponencia, no \\nconstituyen un problema de competencia.   \\nEn la ponencia que se circuló está descrito con mayor precisión las actividade s de las partes \\ny también el análisis, digamos, de la transacción.  \\nPor todo lo anterior, esta Ponencia propone o recomienda autorizar esta operación.  \\nGracias.   \\nBGHR:  Muchas gracias, Comisionado [José Eduardo] Mendoza [Contreras].  \\nPregunto al resto de  Comisionados si ¿tienen algún comentario  relacionado con la ponencia \\nexpuesta ? \\nY si no  es así , les solicito que expresen  el sentido de su voto.  \\nAFR:  Alejandro Faya Rodríguez, a favor.  \\nJEMC:  José Eduardo Mendoza Contreras, a favor.  \\nAMRM:  Ana María Reséndiz Mora, a favor.  \\nBVERSIÓN ESTENOGRÁFICA 1ª SESIÓN ORDINARIA DE PLENO DE 05 DE ENERO  DE 202 3 \\n4 BGHR:  Brenda Gisela Hernández Ramírez, a favor.  \\nFGSA:  Doy cuenta de que existe unanimidad de c inco votos por  autorizar la concentración \\nidentificada con el número de expediente CNT-139-2022 , en los términos del proyecto de \\nresolución.  \\nBGHR:  Como tercer  y último punto de la Orden del Día  tenemos , derivado del ajuste de la \\nmisma , cuatro  Asunto s Generales.  \\nComo primer Asunto General tenemos  la presentación, discusión y, en su caso, aprobación \\ndel Acuerdo relativo a la reanudación del plazo  establecido en el artículo 138, fracción III , \\nde la Ley Federal de Competencia Económica, respecto del Anteproyecto de l os \\nLineamientos para la emisión de opiniones o resoluciones en el otorgamie nto de licencias, \\nconcesiones, permisos y análogos,  por medios electrónicos ante la Comisión Federal de \\nCompetencia Económica, y cedo la palabra al Secretario Técnico para que nos explique el  \\nAcuerdo que se somete a nuestra consideración.  \\nFGSA:  Gracias, Comisionada Presidente.  \\nEl veintiséis de noviembre de dos mil veintiuno , el Pleno de esta Comisión emitió un Acuerdo \\npor medio del cual, por falta de quorum  para resolver, determinó suspender el plazo al que \\nse refiere la fracción III del artículo 138 de la Ley Federal de Competencia Económica , \\nrespecto del Anteproyecto señalado  a partir de la emisión de ese Acuerdo y hasta que se \\ncontara con el número mínimo de Comisionados requerido para poder someter dicho \\ndocumento a votación . \\nEl trece de diciembre pasado, se llevó a cabo la ratificación de Andrea Marván Saltiel como \\nComisionad a de este órgano constitucional autónomo, con efectos a par tir de ese día.  Por \\nlo que, se considera que a partir de es a fecha ha dejado de darse la situación que impedía \\nseguir contando los plazos para resolver el caso señalado .  \\nPor tanto, se propone la e misión de este Acuerdo mediante el cual se indica que se reanuda \\nel plazo de sesenta días a que se refiere la fracción III del artículo 138 de la Ley [Federal de \\nCompetencia Económica] para emitir Lineamientos  con posterioridad a la consulta pública \\na que se sometió el Anteproyecto referido , al contar con el número mínimo de Comisionados \\nrequeridos para poder someter a votación el presente expediente, en términos d el artículo \\n18 de la Ley Federal de Competencia Económica . \\nMuchas gracias.  \\nBGHR:  Muchas gracias, Secretario… muchas gracias, Secretario  Técnico . \\nPregunto a mis colegas si ¿tienen algún comentario relacionado con el Acuerdo expuesto ? \\nY si no es así, les solicito que expresen el sentido de su voto.  \\nAFR:  Alejandro Faya Rodríguez, a favor del Acuerdo.  \\nJEMC:  José Eduardo Mendoza Contreras, a favor.  \\nAMRM:  Ana María Reséndiz Mora,  a favor.  \\nAMS:  Andrea Marván Saltiel, a favor.  \\nBGHR:  Brenda Gisela Hernández Ramírez, a favor.  \\nFGSA:  Doy cuenta de que existe unanimidad de cinco votos por emitir el Acuerdo , en los \\ntérminos señalados . VERSIÓN ESTENOGRÁFICA 1ª SESIÓN ORDINARIA DE PLENO DE 05 DE ENERO  DE 202 3 \\n5 BGHR:  Como segundo Asunto General  tenemos  la presentac ión, discusión y, en su caso, \\naprobación del Acuerdo relativo a la reanudación del plazo establecido en el artículo 138, \\nfracción III , de la Ley Federal de Competencia Económica, respecto del Anteproyecto de los \\nLineamientos para el uso de medios electrónicos durante la investig ación, la secuela del \\nprocedimiento, la verificación y los incidentes tramitados ante la Comisión Federa l de \\nCompetencia Económica  y cedo la palabra al Secretario Técnico para que nos explique el \\nAcuerdo que somete a nuestra  consideración.  \\nFGSA:  Muchas gracias, Comisionada Presidente.  \\nEn el mismo sentido que en el caso anterior, el veintiséis de noviembre de dos mil veintiuno , \\nel Pleno de la Comisión emitió un Acuerdo en el cual se suspendió el plazo al que se refiere \\nla fracción III del artículo 138 de la Ley [Federal de Competencia Económica ] para emitir los \\nLineamientos después de la consulta pública a que se sometió el Anteproyecto señalado y \\ndado que , el trece de diciembre de dos mil veintid ós, se ratificó a la Comisionada Andrea \\nMarván Saltiel como tal, se considera que  pues  ya existen condiciones para poder levantar \\nla suspensión.  \\nPor tanto, se somete a su consideración un Acuerdo en los mismos términos que en el caso \\nseñalado anteriormente .  \\nBGHR:  Muchas gracias, Secretario Técnico.  \\nPregunto a mis colegas si ¿tienen algún comentario relacionado con el acuerdo expuesto ? \\nDe lo contrario, les solicito que expresen el sentido de su voto.  \\nAFR:  Alejandro Faya Rodríguez, a favor.  \\nJEMC:  José Eduardo Mendoza Contreras, a favor.  \\nAMRM:  Ana María Reséndiz Mora, a favor.  \\nAMS:  Andrea Marván Saltiel, a favor.  \\nBGHR:  Brenda Gisela Hernández Ramírez, a favor.  \\nFGSA:  Doy cuenta de que existe unanimidad de cinco votos por emitir el Acuerdo , en los \\ntérminos señalados.  \\nBGHR:  Como tercer Asunto General tenemos  la solicitud de calificación de excusa \\npresentada el tres de enero del año en curso , por la Comisionada Andrea Marván Saltiel  \\npara conocer del expediente  VSP-002-2019 -I. Cedo la palabra a la Comisionada  [Andrea \\nMarván Saltiel ] para que nos explique el motivo de su excusa.  \\nAMS:  Muchas gracias, Comisionada [Presidenta].  \\nLa excusa o los principales motivos de la excusa ya los tiene n ustedes dado que se presentó \\npor escrito, pero se las presento a grandes rasgos.  \\nDurante el tiempo en el que ejercí como Directora General Adjunta y , posteriormente , \\nDirectora Ejecutiva del Staff [de la Autoridad Investigadora de la Comi sión Federal de \\nCompetencia Económica], mis labores fueron básicamente auxiliar al Titular de  la Autoridad \\nInvestigadora  en la tramitación de diversos expedientes . En específico, respe cto de este \\nexpediente , participé proponiendo sugerencias respecto a las estrategias de … planteadas \\nen la investigación y auxilié en la asesoría del Titular de la Autoridad Investig adora para la \\ntoma de decisiones relacionada con el expediente principal relacionado con este asunt o. VERSIÓN ESTENOGRÁFICA 1ª SESIÓN ORDINARIA DE PLENO DE 05 DE ENERO  DE 202 3 \\n6 Por lo tanto, someto a calificación de ustedes si se actualiza la excusa prevista e n el artículo \\n24 de la Ley Federal de Competencia Económica, en la fracción IV.  \\nBGHR:  Muchas gracias, Comisionada [Andrea] Marván [Saltiel].  \\nLe solicito, por favor, que salga de esta sesión virtual para poder deliberar sobre la excusa  \\npresentada y también le pido al Secretar io Técnico que una vez que la Comisionada \\n[Andrea] Marván [Saltiel] salga dé fe de dicha acción.  \\nAMS: Gracias.  \\nFGSA:  Comisionada Presidente, hago con star que la Comisionada Andrea Marván Saltiel  \\nsalió de la sala de sesiones . \\nBGHR:  Muchas gracias.  \\nLe pido a mis colegas que manifiesten si tienen algún comentario al respecto y  si no  que \\nemitan el sentido de su voto . \\nAFR:  Alejandro Faya Rodríguez, voto por la improcedencia de la excusa planteada.  \\nJEMC:  José Eduardo Mendoza Contreras, considero improce dente la excusa . \\nAMRM:  Ana María Reséndiz Mora, voto por la improcedencia . \\nBGHR:  Brenda Gisela Hernández Ramírez, considero procedente la excusa presentada , \\ntoda vez que la Comisionada [Andrea] Marván [Saltiel] señala en el escrito que fue \\npresentado que en ejercicio de sus funciones dentro de la Autoridad Investigadora  propuso \\nmejoras y realizó sugerencias respecto de las estrategias de investigación . Asimismo, \\ncolaboró en la toma de decisiones del Titular de la Autoridad Inves tigadora respecto del \\nexpediente DE -008-2016 del cual deriva el VSP [-002-2019 -I] ya referido.  \\nAdemás,  señala que realizó revisiones y análisis jurídico -económicos de diversas \\nactuaciones que deriva ron en acuerdos, oficios y dictámenes, entre otros, relacionados con \\ndicho expediente principal.  \\nEstimo que dichas circunstancias implican la existencia de hechos que la Ley Fe deral de \\nCompetencia Económica presume como generadores de un interés directo o indirecto al \\nhaber gestionado el asunto en favor de la Autoridad Investigadora, por tanto, se configura  y \\nactualiza la causal de l impedimento establecida en la fracción IV del artículo 24 de la Ley \\nFederal de Competencia Económica.  \\nAhora bien, como lo he sostenido en ocasiones anteriores, estimo que si un Comisionado \\ntiene imp edimento derivado de la sustanciación de un asunto en la etapa de  investigación, \\ndicho impedimento se extiende a los expedientes derivados. En específico, el  caso que \\nanalizó la Comisionada [Andrea Marván Saltiel] en el expediente DE -008-2016 se relaciona \\ncon el expediente VSP -002-2019 -I, es decir , el expediente incidental , en el cual la materia \\nes verificar el cumplimiento o incumplimiento de los compromisos contenidos en la \\nresolución emitida por el Pleno de la Comisión en el expediente DE -008-2016.  \\nEn este sentido, estimo procedente la solicitud de la Comisionada [Andrea M arván Saltiel] . \\nFGSA:  Entonces d oy cuenta de que existe mayoría  de tres votos , con voto en contra de la \\nComisionada [Presidenta] Brenda Gisela Hernández Ramírez , por considerar que resulta \\nimprocedente la excusa planteada por la Comisionada Andrea Marván Saltiel.  \\nBGHR:  Muchas gracias, Secretario Técnico.  VERSIÓN ESTENOGRÁFICA 1ª SESIÓN ORDINARIA DE PLENO DE 05 DE ENERO  DE 202 3 \\n7 Le pido, por favor, que integre a la sesión a la Comisionada [Andrea] Marván [Salti el] y dé \\nfe de lo anterior.  \\nFGSA:  Sí, Comisionada President e. \\nPermítame un segundo, no me está respondiendo la llamada.  \\nYa. \\nComisionada [Andrea] Marván [Saltiel]  ¿estás ahí?  \\nAMS:  Sí, estoy aquí.  \\nFGSA: Okay,  hago constar que regresó a la sala de sesiones la Comisionada Andrea  Marván \\nSaltiel.  \\nBGHR:  Muchas gracias.  \\nComo cuarto y último Asunto General tenemos la presentación, discusión y, e n su caso, \\naprobación del Acuerdo  por el que se emite el Manual que regula las remuneraciones de \\nlas personas servidoras públicas, y por el que se aprueba la estructura ocupacional de la  \\nComisión Federal de Competencia Económica y cedo la palabra al Secretario Técnico par a \\nque nos explique el Acuerdo que somete a nuestra consideración.  \\nFGSA:  Gracias, Comisionada Presidente.  \\nSe somete a su consideración la discusión y aprobación del Manual que regula las \\nremuneraciones de las personas servidoras públicas, y por el que se aprueba la estructur a \\nocupacional de la Comisión Federal de Competencia Económica para el ejercicio dos m il \\nveintitrés, esto deriva de la necesidad de dar cumplimiento a lo que establece e l artículo 21 \\ndel Presupuesto de Egresos de la Federación para el Ejercicio Fiscal 2023, que consiste  en \\nque los entes  autónomos deberán publicar en el Diario Oficial de la Federación , a más tardar \\nel último día hábil del mes de febrero , el Manual que regula las remuneraciones para los \\nservidores públicos a su servicio, en el que se propone la información completa y de tallada \\nrelativa a las remuneraciones que se c ubran para cada uno de los niveles jerárquicos que \\nlos conforman. Asimismo, deberán publicar en el Diario Oficial de la Federa ción, en la fecha \\nantes señalada, la estructura ocupacional que contenga la integración  de los recursos \\naprobados en el capítulo de servicios personales , con la desagregación de su plantilla total.  \\nMuchas gracias.  \\nBGHR:  Muchas gracias, Secretario Técnico.  \\nPregunto a mis colegas si ¿tienen algún comentario relacionado con el Acuerdo expuesto ?  \\nY si no es así, expresen el sentido de su voto.  \\nAFR:  Bueno , yo levanté la mano . Nada más para mayor certeza , es mí entendimiento y \\nentiendo que también es compartido por mis colegas Comisionados , que para el caso de \\nservidores públicos que … cuya s remuneraciones se estén pagando conforme a alguna \\nresolución judicial eso no impide que este Manual que estamos aproban do para dos mil \\nveintitrés si hay algunos conceptos o rubros que operen en su beneficio pues también se \\nles puedan aplicar ¿no?  así ent iendo que es la interpretación correcta y jurídicamente \\nprocedente .  \\nEntonces hay algunas sugerencias de engrose por s i hacen más claro el asunto , si no es \\nnecesario pues entonces se aplicaría  en esos términos.  VERSIÓN ESTENOGRÁFICA 1ª SESIÓN ORDINARIA DE PLENO DE 05 DE ENERO  DE 202 3 \\n8 Así lo entiendo ¿no?  \\nY… \\nBGHR:  Si no hay algún otro…  \\nAFR:  Okay .  \\nY yo voto a favor, nada más haciendo la aclaración de que, lo que respecta a mi esfera \\njurídica individual, me reservo cualquier medio de defensa frente a cualqui er acto de \\naplicación de este Manual que pudiera repercutir negativamente en mis derechos.  \\nGracias.  \\nJEMC:  José Eduardo Mendoza Contreras, al igual que el Comisionado [Alejandro] Faya \\n[Rodríguez], me reservo, o sea , voto a favor  del Manual sin menoscabo al ejercicio de mis \\nderechos jurídicos y humanos.  \\nGracias.  \\nAMRM : Ana María Reséndiz Mora, a favor  del Manual . \\nAMS:  Andrea Marván Saltiel, a favor.  \\nBGHR:  Brenda Gisela Hernández Ramírez, a favor.  \\nFGSA:  Doy cuenta de que existe unanimidad de cinco votos por emitir el Manual propuest o, \\nen los términos señalados.  \\nBGHR: No habiendo otro asunto que resolver, se da por concluida la presente sesi ón a las \\ntrece  horas con veintitrés  minutos del cinco  de enero  de dos mil veint itrés. \\nMuchas gracias.  \\nJEMC:  Gracias a todos.  \\nFGSA:  Muchas g racias, Comisionados .  '"
      ]
     },
     "execution_count": 25,
     "metadata": {},
     "output_type": "execute_result"
    }
   ],
   "source": [
    "# Open file\n",
    "\n",
    "f = open('VEP_20230105_1.txt', encoding = 'utf-8')\n",
    "\n",
    "f.read()"
   ]
  },
  {
   "cell_type": "code",
   "execution_count": 27,
   "metadata": {},
   "outputs": [
    {
     "data": {
      "text/plain": [
       "['VERSIÓN',\n",
       " 'VERSIÓN',\n",
       " 'VERSIÓN',\n",
       " 'VERSIÓN',\n",
       " 'VERSIÓN',\n",
       " 'VERSIÓN',\n",
       " 'VERSIÓN',\n",
       " 'VERSIÓN',\n",
       " 'VERSIÓN',\n",
       " 'VERSIÓN']"
      ]
     },
     "execution_count": 27,
     "metadata": {},
     "output_type": "execute_result"
    }
   ],
   "source": [
    "# Open file\n",
    "\n",
    "f = open('VEP_20230105_1.txt', encoding = 'utf-8')\n",
    "\n",
    "# Feed the file text into findall(); it returns a list of all the found strings\n",
    "\n",
    "strings = re.findall(r'VERSIÓN', f.read())\n",
    "\n",
    "strings"
   ]
  },
  {
   "cell_type": "code",
   "execution_count": 28,
   "metadata": {},
   "outputs": [
    {
     "data": {
      "text/plain": [
       "10"
      ]
     },
     "execution_count": 28,
     "metadata": {},
     "output_type": "execute_result"
    }
   ],
   "source": [
    "len(strings)"
   ]
  },
  {
   "cell_type": "markdown",
   "metadata": {},
   "source": [
    "#### findall y Grupos\n",
    "\n",
    "El mecanismo de grupo de paréntesis ( ) se puede combinar con findall(). \n",
    "\n",
    "Si el patrón incluye 2 o más grupos de paréntesis, entonces en lugar de devolver una lista de cadenas, findall() devuelve una lista de *tuplas*. \n",
    "\n",
    "Cada tupla representa una coincidencia del patrón y, dentro de la tupla, están los datos group(1), group(2). \n",
    "\n",
    "\n",
    "Por lo tanto, si se agregan 2 grupos de paréntesis al patrón de correo electrónico, findall() devuelve una lista de tuplas, cada una de las cuales contiene el nombre de usuario y el host, p.ej., (\"alice\", \"google.com\")."
   ]
  },
  {
   "cell_type": "code",
   "execution_count": 29,
   "metadata": {},
   "outputs": [
    {
     "name": "stdout",
     "output_type": "stream",
     "text": [
      "alice\n",
      "google.com\n",
      "bob\n",
      "abc.com\n",
      "benjov\n",
      "ciencias.unam.mx\n"
     ]
    }
   ],
   "source": [
    "#\n",
    "\n",
    "Texto = 'purple alice@google.com, blah monkey bob@abc.com blah dishwasher benjov@ciencias.unam.mx '\n",
    "\n",
    "tuples = re.findall(r'([\\w\\.-]+)@([\\w\\.-]+)', Texto)\n",
    "\n",
    "for tuple in tuples:\n",
    "    print(tuple[0])  ## username\n",
    "    print(tuple[1])  ## host\n",
    "\n",
    "#tuples  ## [('alice', 'google.com'), ('bob', 'abc.com')]\n",
    "#tuples[0][1]"
   ]
  },
  {
   "cell_type": "markdown",
   "metadata": {},
   "source": [
    "Una vez que tengas la lista de tuplas, puedes realizar un bucle sobre ella para hacer algunos cálculos por cada tupla. \n",
    "\n",
    "Si el patrón no incluye paréntesis, entonces findall() devuelve una lista de cadenas encontradas, como en los ejemplos anteriores. \n",
    "\n",
    "Si el patrón incluye un solo conjunto de paréntesis, findall() devuelve una lista de cadenas correspondientes a ese único grupo. \n",
    "\n",
    "(Función opcional clara: a veces hay grupos de paréntesis ( ) en el patrón, pero no es recomendable extraerlos. En ese caso, escribe los paréntesis con un ?: al comienzo, p.ej., (?: ) y ese paréntesis izquierdo no contará como un resultado grupal."
   ]
  },
  {
   "cell_type": "code",
   "execution_count": null,
   "metadata": {},
   "outputs": [],
   "source": []
  },
  {
   "cell_type": "code",
   "execution_count": null,
   "metadata": {},
   "outputs": [],
   "source": []
  },
  {
   "cell_type": "code",
   "execution_count": null,
   "metadata": {},
   "outputs": [],
   "source": []
  }
 ],
 "metadata": {
  "kernelspec": {
   "display_name": "Python 3 (ipykernel)",
   "language": "python",
   "name": "python3"
  },
  "language_info": {
   "codemirror_mode": {
    "name": "ipython",
    "version": 3
   },
   "file_extension": ".py",
   "mimetype": "text/x-python",
   "name": "python",
   "nbconvert_exporter": "python",
   "pygments_lexer": "ipython3",
   "version": "3.10.14"
  }
 },
 "nbformat": 4,
 "nbformat_minor": 2
}
