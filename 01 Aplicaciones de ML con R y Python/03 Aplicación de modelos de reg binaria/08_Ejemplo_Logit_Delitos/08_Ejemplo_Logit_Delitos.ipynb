{
 "cells": [
  {
   "cell_type": "markdown",
   "metadata": {},
   "source": [
    "# Análisis de Víctimas en carpetas de investigación FGJ\n",
    "\n",
    "Objetivo:\n",
    "* Implementar un modelo del clasificación para el análsis de las víctimas en carpetas de investigación FGJ en la Ciudad de México\n",
    "* Datos: https://datos.cdmx.gob.mx/dataset/victimas-en-carpetas-de-investigacion-fgj"
   ]
  },
  {
   "cell_type": "markdown",
   "metadata": {},
   "source": [
    "## Bibliotecas y setup"
   ]
  },
  {
   "cell_type": "code",
   "execution_count": null,
   "metadata": {},
   "outputs": [],
   "source": [
    "# Dependencies\n",
    "import pandas as pd \n",
    "pd.set_option('display.max_columns', 100)\n",
    "import numpy as np \n",
    "import statsmodels.api as sm\n",
    "import scipy.stats as st\n",
    "import matplotlib.pyplot as plt\n",
    "import matplotlib.cm as cm\n",
    "import seaborn as sn\n",
    "from sklearn.metrics import confusion_matrix\n",
    "import matplotlib.mlab as mlab\n",
    "from sklearn.model_selection import train_test_split\n",
    "from sklearn.linear_model import LogisticRegression\n",
    "from sklearn.metrics import accuracy_score\n",
    "from sklearn.metrics import confusion_matrix\n",
    "from sklearn.metrics import roc_curve\n",
    "from sklearn.metrics import roc_auc_score\n",
    "\n",
    "#\n",
    "import warnings \n",
    "warnings.filterwarnings('ignore') # Para ignorar warnings"
   ]
  },
  {
   "cell_type": "markdown",
   "metadata": {},
   "source": [
    "### Nota: Si alguna biblioteca no se instala utilizar el siguiente código"
   ]
  },
  {
   "cell_type": "code",
   "execution_count": null,
   "metadata": {},
   "outputs": [],
   "source": [
    "# \n",
    "#!pip install pip # Cuando utilicen por primera vez pip\n",
    "#!pip install <<name_library>>"
   ]
  },
  {
   "cell_type": "markdown",
   "metadata": {},
   "source": [
    "## SECCIÓN I:\n",
    "\n",
    "### ¿Qué nos dicen los datos? \n",
    "\n",
    "Se trata de datos que contienen la información actualizada de las víctimas de los delitos en las carpetas de investigación de la Fiscalía General de Justicia (FGJ) de la Ciudad de México a partir de enero de 2019.\n",
    "\n",
    "Para una correcta interpretación de la información, la CDMX hizó las siguientes aclaraciones:\n",
    "\n",
    "* El campo \"fecha_hecho\" representa la fecha en la que ocurrió el hecho.\n",
    "* El campo \"fecha_inicio\" corresponde a la fecha de la apertura de la carpeta de investigación.\n",
    "* En esta base se señala el sexo de la víctima, así como la fecha en que ocurrieron los hechos denunciados.\n",
    "* Es importante destacar que, aunque en algunas ocasiones la víctima es la persona denunciante, en otras, denunciante y víctima son personas diferentes (por ejemplo, casos en los que menores de edad son víctimas).\n",
    "* Es posible que en una misma denuncia se incluya a una o más víctimas.\n",
    "* Existen otras aclaraciones en: https://datos.cdmx.gob.mx/dataset/victimas-en-carpetas-de-investigacion-fgj\n",
    "\n",
    "**Los datos de esta tabla fueron actualizados por la FGJ el 29 de julio de 2020.**\n",
    "\n",
    "Los datos antes de la actualización del 29 de julio de 2020 los puedes consultar en esta liga: Victimas antes de la actualización de julio de 2020 [https://archivo.datos.cdmx.gob.mx/fiscalia-general-de-justicia/victimas-en-carpetas-de-investigacion-fgj/victimas_ss_junio2020.csv]"
   ]
  },
  {
   "cell_type": "code",
   "execution_count": null,
   "metadata": {},
   "outputs": [],
   "source": [
    "# Consulta a una dirección Web que aloja un archivo CSV (DATOS ACTUALIZADOS)\n",
    "\n",
    "Datos = pd.read_csv('https://archivo.datos.cdmx.gob.mx/FGJ/victimas/victimasFGJ_acumulado_2024_09.csv')\n",
    "\n",
    "Datos.tail()"
   ]
  },
  {
   "cell_type": "code",
   "execution_count": null,
   "metadata": {},
   "outputs": [],
   "source": [
    "#\n",
    "\n",
    "Datos.shape"
   ]
  },
  {
   "cell_type": "code",
   "execution_count": null,
   "metadata": {},
   "outputs": [],
   "source": [
    "#\n",
    "\n",
    "Datos.info()"
   ]
  },
  {
   "cell_type": "code",
   "execution_count": null,
   "metadata": {},
   "outputs": [],
   "source": [
    "# Consulta a una dirección Web que aloja un archivo CSV (DATOS NO ACTUALIZADOS)\n",
    "\n",
    "Datos_OLD = pd.read_csv('https://archivo.datos.cdmx.gob.mx/fiscalia-general-de-justicia/victimas-en-carpetas-de-investigacion-fgj/victimas_ss_junio2020.csv')\n",
    "\n",
    "Datos_OLD.tail()"
   ]
  },
  {
   "cell_type": "code",
   "execution_count": null,
   "metadata": {},
   "outputs": [],
   "source": [
    "#\n",
    "\n",
    "Datos_OLD.shape"
   ]
  },
  {
   "cell_type": "code",
   "execution_count": null,
   "metadata": {},
   "outputs": [],
   "source": [
    "#\n",
    "\n",
    "Datos_OLD.info()"
   ]
  },
  {
   "cell_type": "code",
   "execution_count": null,
   "metadata": {},
   "outputs": [],
   "source": [
    "# Agrupamos por año-mes y categoria_delito de los DATOS ACTUALIZADOS\n",
    "\n",
    "Datos['Periodo'] = Datos['fecha_hecho'].str[:7]\n",
    "\n",
    "Time_Serie = Datos[ ['Periodo', 'categoria_delito', \n",
    "                     'anio_inicio'] ].groupby(by = ['Periodo', \n",
    "                                                    'categoria_delito']).count().reset_index( drop = False)\n",
    "\n",
    "Time_Serie = Time_Serie[ Time_Serie['Periodo'] >= '2019-01' \\\n",
    "                       ].reset_index( drop = True ).rename( columns = {'categoria_delito': 'Categoria', \n",
    "                                                                       'anio_inicio' : 'Numero'} )\n",
    "\n",
    "Time_Serie"
   ]
  },
  {
   "cell_type": "code",
   "execution_count": null,
   "metadata": {
    "scrolled": true
   },
   "outputs": [],
   "source": [
    "#\n",
    "\n",
    "Time_Serie = pd.pivot_table( Time_Serie, values = 'Numero', index = ['Periodo'], \n",
    "                             columns = ['Categoria'], aggfunc = 'sum' ).reset_index( drop = False )\n",
    "\n",
    "Time_Serie"
   ]
  },
  {
   "cell_type": "code",
   "execution_count": null,
   "metadata": {},
   "outputs": [],
   "source": [
    "# Agrupamos por año-mes y categoria_delito de los DATOS NO ACTUALIZADOS\n",
    "\n",
    "Datos_OLD['Periodo'] = Datos_OLD['FechaHecho'].str[6:10] + '-' + Datos_OLD['FechaHecho'].str[3:5]\n",
    "\n",
    "Time_Serie_OLD = Datos_OLD[ ['Periodo', 'Categoria', \n",
    "                             'idCarpeta'] ].groupby(by = ['Periodo', \n",
    "                                                          'Categoria']).count().reset_index( drop = False)\n",
    "\n",
    "Time_Serie_OLD = Time_Serie_OLD[ Time_Serie_OLD['Periodo'] >= '2019-01'\\\n",
    "                               ].reset_index( drop = True ).rename( columns = {'idCarpeta' : 'Numero'} )\n",
    "\n",
    "Time_Serie_OLD"
   ]
  },
  {
   "cell_type": "code",
   "execution_count": null,
   "metadata": {},
   "outputs": [],
   "source": [
    "#\n",
    "\n",
    "Time_Serie_OLD = pd.pivot_table( Time_Serie_OLD, values = 'Numero', index = ['Periodo'], \n",
    "                                 columns = ['Categoria'], aggfunc = 'sum' ).reset_index( drop = False )\n",
    "\n",
    "Time_Serie_OLD"
   ]
  },
  {
   "cell_type": "code",
   "execution_count": null,
   "metadata": {},
   "outputs": [],
   "source": [
    "#\n",
    "\n",
    "Time_Serie = Time_Serie.drop('HECHO NO DELICTIVO', axis=1)\n",
    "Time_Serie = Time_Serie.drop('SECUESTRO', axis=1)\n",
    "Time_Serie = Time_Serie.drop('HOMICIDIO DOLOSO', axis=1)\n",
    "Time_Serie = Time_Serie.drop('VIOLACIÓN', axis=1)\n",
    "Time_Serie = Time_Serie.drop('LESIONES DOLOSAS POR DISPARO DE ARMA DE FUEGO', axis=1)\n",
    "Time_Serie = Time_Serie.drop('ROBO A CASA HABITACIÓN CON VIOLENCIA', axis=1)\n",
    "Time_Serie = Time_Serie.drop('ROBO A NEGOCIO CON VIOLENCIA', axis=1)\n",
    "Time_Serie = Time_Serie.drop('ROBO A REPARTIDOR CON Y SIN VIOLENCIA', axis=1)"
   ]
  },
  {
   "cell_type": "code",
   "execution_count": null,
   "metadata": {},
   "outputs": [],
   "source": [
    "#\n",
    "plt.style.available"
   ]
  },
  {
   "cell_type": "code",
   "execution_count": null,
   "metadata": {},
   "outputs": [],
   "source": [
    "# Visualización\n",
    "\n",
    "plt.style.use('seaborn-v0_8-darkgrid') # 'ggplot', 'seaborn-v0_8-darkgrid'\n",
    "\n",
    "plt.figure( figsize = ( 15, 6 ) )\n",
    "\n",
    "colors = cm.rainbow(np.linspace(0, 1, len(Time_Serie.columns) - 1))\n",
    " \n",
    "# Plot multiple lines\n",
    "for num, column in enumerate(Time_Serie.drop('Periodo', axis=1)):\n",
    "    plt.plot(Time_Serie['Periodo'], Time_Serie[column], \n",
    "             marker='', color=colors[num], linewidth=1, \n",
    "             alpha=0.9, label=column)\n",
    "\n",
    "# Add legend\n",
    "plt.legend(loc='upper left', bbox_to_anchor=(1, 1), ncol=1)\n",
    " \n",
    "# Add titles\n",
    "plt.title( 'Evolución de Victimas por Categorías de Crimen en CDMX (DATOS AJUSTADOS)', \n",
    "           loc = 'left', fontsize = 11, fontweight = 0, color = 'darkblue' )\n",
    "plt.xlabel( 'Periodo' )\n",
    "plt.ylabel( '' )\n",
    "\n",
    "plt.xticks( rotation = 90 )\n",
    "\n",
    "# Adjust layout to make room for the legend\n",
    "plt.tight_layout()"
   ]
  },
  {
   "cell_type": "code",
   "execution_count": null,
   "metadata": {},
   "outputs": [],
   "source": [
    "#\n",
    "\n",
    "Time_Serie = Time_Serie.drop('DELITO DE BAJO IMPACTO', axis=1)"
   ]
  },
  {
   "cell_type": "code",
   "execution_count": null,
   "metadata": {},
   "outputs": [],
   "source": [
    "# Visualización\n",
    "\n",
    "plt.style.use('ggplot') # 'ggplot', 'seaborn-v0_8-darkgrid'\n",
    "\n",
    "plt.figure( figsize = ( 15, 6 ) )\n",
    "\n",
    "colors = cm.rainbow(np.linspace(0, 1, len(Time_Serie.columns) - 1))\n",
    " \n",
    "# Plot multiple lines\n",
    "for num, column in enumerate(Time_Serie.drop('Periodo', axis=1)):\n",
    "    plt.plot(Time_Serie['Periodo'], Time_Serie[column], \n",
    "             marker='', color=colors[num], linewidth=1, \n",
    "             alpha=0.9, label=column)\n",
    "\n",
    "# Add legend\n",
    "plt.legend(loc='upper left', bbox_to_anchor=(1, 1), ncol=1)\n",
    " \n",
    "# Add titles\n",
    "plt.title( 'Evolución de Victimas por Categorías de Crimen en CDMX (DATOS AJUSTADOS)', \n",
    "           loc = 'left', fontsize = 11, fontweight = 0, color = 'darkblue' )\n",
    "plt.xlabel( 'Periodo' )\n",
    "plt.ylabel( '' )\n",
    "\n",
    "plt.xticks( rotation = 90 )\n",
    "\n",
    "# Adjust layout to make room for the legend\n",
    "plt.tight_layout()"
   ]
  },
  {
   "cell_type": "code",
   "execution_count": null,
   "metadata": {},
   "outputs": [],
   "source": [
    "#\n",
    "\n",
    "Time_Serie_OLD = Time_Serie_OLD.drop('HECHO NO DELICTIVO', axis=1)\n",
    "Time_Serie_OLD = Time_Serie_OLD.drop('SECUESTRO', axis=1)\n",
    "Time_Serie_OLD = Time_Serie_OLD.drop('HOMICIDIO DOLOSO', axis=1)\n",
    "Time_Serie_OLD = Time_Serie_OLD.drop('VIOLACIÓN', axis=1)\n",
    "Time_Serie_OLD = Time_Serie_OLD.drop('LESIONES DOLOSAS POR DISPARO DE ARMA DE FUEGO', axis=1)\n",
    "Time_Serie_OLD = Time_Serie_OLD.drop('ROBO A CASA HABITACIÓN CON VIOLENCIA', axis=1)\n",
    "Time_Serie_OLD = Time_Serie_OLD.drop('ROBO A NEGOCIO CON VIOLENCIA', axis=1)\n",
    "Time_Serie_OLD = Time_Serie_OLD.drop('ROBO A REPARTIDOR CON Y SIN VIOLENCIA', axis=1)"
   ]
  },
  {
   "cell_type": "code",
   "execution_count": null,
   "metadata": {},
   "outputs": [],
   "source": [
    "# Visualización\n",
    "\n",
    "plt.style.use('ggplot') # 'ggplot', 'seaborn-darkgrid'\n",
    "\n",
    "plt.figure( figsize = ( 15, 6 ) )\n",
    "\n",
    "colors = cm.rainbow(np.linspace(0, 1, len(Time_Serie_OLD.columns) - 1))\n",
    " \n",
    "# Plot multiple lines\n",
    "for num, column in enumerate(Time_Serie_OLD.drop('Periodo', axis=1)):\n",
    "    plt.plot(Time_Serie_OLD['Periodo'], Time_Serie_OLD[column], \n",
    "             marker='', color=colors[num], linewidth=1, \n",
    "             alpha=0.9, label=column)\n",
    "\n",
    "# Add legend\n",
    "plt.legend(loc='upper left', bbox_to_anchor=(1, 1), ncol=1)\n",
    " \n",
    "# Add titles\n",
    "plt.title( 'Evolución de Victimas por Categorías de Crimen en CDMX (DATOS NO AJUSTADOS)', \n",
    "           loc = 'left', fontsize = 11, fontweight = 0, color = 'darkblue' )\n",
    "plt.xlabel( 'Periodo' )\n",
    "plt.ylabel( '' )\n",
    "\n",
    "plt.xticks( rotation = 90 )\n",
    "\n",
    "# Adjust layout to make room for the legend\n",
    "plt.tight_layout()"
   ]
  },
  {
   "cell_type": "code",
   "execution_count": null,
   "metadata": {},
   "outputs": [],
   "source": [
    "#\n",
    "\n",
    "Time_Serie_OLD = Time_Serie_OLD.drop('DELITO DE BAJO IMPACTO', axis=1)"
   ]
  },
  {
   "cell_type": "code",
   "execution_count": null,
   "metadata": {},
   "outputs": [],
   "source": [
    "# Visualización\n",
    "\n",
    "plt.style.use('ggplot') # 'ggplot', 'seaborn-darkgrid'\n",
    "\n",
    "plt.figure( figsize = ( 15, 6 ) )\n",
    "\n",
    "colors = cm.rainbow(np.linspace(0, 1, len(Time_Serie_OLD.columns) - 1))\n",
    " \n",
    "# Plot multiple lines\n",
    "for num, column in enumerate(Time_Serie_OLD.drop('Periodo', axis=1)):\n",
    "    plt.plot(Time_Serie_OLD['Periodo'], Time_Serie_OLD[column], \n",
    "             marker='', color=colors[num], linewidth=1, \n",
    "             alpha=0.9, label=column)\n",
    "\n",
    "# Add legend\n",
    "plt.legend(loc='upper left', bbox_to_anchor=(1, 1), ncol=1)\n",
    " \n",
    "# Add titles\n",
    "plt.title( 'Evolución de Victimas por Categorías de Crimen en CDMX (DATOS NO AJUSTADOS)', \n",
    "           loc = 'left', fontsize = 11, fontweight = 0, color = 'darkblue' )\n",
    "plt.xlabel( 'Periodo' )\n",
    "plt.ylabel( '' )\n",
    "\n",
    "plt.xticks( rotation = 90 )\n",
    "\n",
    "# Adjust layout to make room for the legend\n",
    "plt.tight_layout()"
   ]
  },
  {
   "cell_type": "markdown",
   "metadata": {},
   "source": [
    "## SECCIÓN II:\n",
    "\n",
    "### Limpieza de datos"
   ]
  },
  {
   "cell_type": "code",
   "execution_count": null,
   "metadata": {},
   "outputs": [],
   "source": [
    "# Selección de información para el modelo\n",
    "# Usaremos los DATOS ACTUALIZADOS:\n",
    "\n",
    "Datos_ML = Datos[ Datos['Periodo'] >= '2019-01' ]\n",
    "\n",
    "Datos_ML = Datos_ML[ [ 'Periodo','fecha_inicio', 'hora_inicio', 'fecha_hecho', 'hora_hecho', 'categoria_delito',\n",
    "                       'sexo', 'edad', 'tipo_persona', 'calidad_juridica', 'latitud', 'longitud' ] ]\n",
    "\n",
    "Datos_ML.info()"
   ]
  },
  {
   "cell_type": "code",
   "execution_count": null,
   "metadata": {},
   "outputs": [],
   "source": [
    "#\n",
    "\n",
    "Datos_ML.Periodo.value_counts()"
   ]
  },
  {
   "cell_type": "code",
   "execution_count": null,
   "metadata": {},
   "outputs": [],
   "source": [
    "#\n",
    "\n",
    "Datos_ML.categoria_delito.value_counts()"
   ]
  },
  {
   "cell_type": "code",
   "execution_count": null,
   "metadata": {},
   "outputs": [],
   "source": [
    "#\n",
    "\n",
    "Datos_ML.tipo_persona.value_counts()"
   ]
  },
  {
   "cell_type": "code",
   "execution_count": null,
   "metadata": {},
   "outputs": [],
   "source": [
    "#\n",
    "\n",
    "pd.crosstab( Datos_ML['Periodo'], Datos_ML['tipo_persona'] , normalize = 'index' )"
   ]
  },
  {
   "cell_type": "code",
   "execution_count": null,
   "metadata": {},
   "outputs": [],
   "source": [
    "#\n",
    "\n",
    "Datos_ML = Datos_ML[ Datos_ML['tipo_persona'] != 'MORAL' ]"
   ]
  },
  {
   "cell_type": "code",
   "execution_count": null,
   "metadata": {},
   "outputs": [],
   "source": [
    "#\n",
    "\n",
    "Datos_ML.calidad_juridica.value_counts()"
   ]
  },
  {
   "cell_type": "code",
   "execution_count": null,
   "metadata": {},
   "outputs": [],
   "source": [
    "#\n",
    "Datos_ML['personas'] = 'NA'\n",
    "#\n",
    "Datos_ML.loc[ Datos_ML['calidad_juridica'] == 'VICTIMA Y DENUNCIANTE', 'personas'] = 'Victima_y_Otra'\n",
    "Datos_ML.loc[ Datos_ML['calidad_juridica'] == 'OFENDIDO Y DENUNCIANTE', 'personas'] = 'Victima_y_Otra'\n",
    "Datos_ML.loc[ Datos_ML['calidad_juridica'] == 'DENUNCIANTE Y VICTIMA', 'personas'] = 'Victima_y_Otra'\n",
    "#\n",
    "Datos_ML.loc[ Datos_ML['calidad_juridica'] == 'VICTIMA', 'personas'] = 'Victima'\n",
    "Datos_ML.loc[ Datos_ML['calidad_juridica'] == 'OFENDIDO', 'personas'] = 'Victima'\n",
    "Datos_ML.loc[ Datos_ML['calidad_juridica'] == 'AGRAVIADO', 'personas'] = 'Victima'\n",
    "Datos_ML.loc[ Datos_ML['calidad_juridica'] == 'LESIONADO', 'personas'] = 'Victima'\n",
    "Datos_ML.loc[ Datos_ML['calidad_juridica'] == 'CADAVER', 'personas'] = 'Victima'\n",
    "\n",
    "#Datos_ML.personas.value_counts()\n",
    "Datos_ML = Datos_ML[ Datos_ML['personas'] != 'NA' ]"
   ]
  },
  {
   "cell_type": "code",
   "execution_count": null,
   "metadata": {},
   "outputs": [],
   "source": [
    "#\n",
    "\n",
    "Datos_ML.personas.value_counts()"
   ]
  },
  {
   "cell_type": "code",
   "execution_count": null,
   "metadata": {},
   "outputs": [],
   "source": [
    "# Creamos una variable de días\n",
    "\n",
    "Datos_ML['Dias'] = ( pd.to_timedelta( \n",
    "                     pd.to_datetime( Datos_ML['fecha_inicio'] + '-' + Datos_ML['hora_inicio'],\n",
    "                                     format = '%Y-%m-%d-%H:%M:%S' ) - \\\n",
    "                     pd.to_datetime( Datos_ML['fecha_hecho'] + '-' + Datos_ML['hora_hecho'], \n",
    "                                     format = '%Y-%m-%d-%H:%M:%S' ) \n",
    "                   ).dt.total_seconds() / 3600 ) / 24"
   ]
  },
  {
   "cell_type": "code",
   "execution_count": null,
   "metadata": {},
   "outputs": [],
   "source": [
    "# Un histograma \n",
    "\n",
    "Datos_ML['Dias'].hist( bins = 30 )\n",
    "\n",
    "plt.show()"
   ]
  },
  {
   "cell_type": "code",
   "execution_count": null,
   "metadata": {},
   "outputs": [],
   "source": [
    "# Filtramos casos en los que no transcurrió más de 1 año entre la denuncia y el evento:\n",
    "\n",
    "Datos_ML = Datos_ML[ ( Datos_ML['Dias'] >= 0 ) & ( Datos_ML['Dias'] <= 365 ) ]\n",
    "\n",
    "Datos_ML['Dias'].hist( bins = 30 )\n",
    "\n",
    "plt.show()"
   ]
  },
  {
   "cell_type": "code",
   "execution_count": null,
   "metadata": {},
   "outputs": [],
   "source": [
    "#\n",
    "# Extraer el día de la semana \n",
    "\n",
    "Datos_ML['fecha_hecho_dia'] = pd.to_datetime( Datos_ML['fecha_hecho'] ).dt.day_name()\n",
    "\n",
    "colores_dias = {\n",
    "    'Monday': 'red',\n",
    "    'Tuesday': 'orange',\n",
    "    'Wednesday': 'yellow',\n",
    "    'Thursday': 'green',\n",
    "    'Friday': 'blue',\n",
    "    'Saturday': 'purple',\n",
    "    'Sunday': 'pink'\n",
    "}\n",
    "\n",
    "# Crear el gráfico\n",
    "plt.figure(figsize=(10,6))\n",
    "orden_dias = ['Monday', 'Tuesday', 'Wednesday', 'Thursday', 'Friday', 'Saturday', 'Sunday']\n",
    "\n",
    "barras = sn.countplot(\n",
    "    x=\"fecha_hecho_dia\", \n",
    "    data=Datos_ML,\n",
    "    order=orden_dias,  # Para que salgan en orden correcto\n",
    "    palette=[colores_dias[dia] for dia in orden_dias]\n",
    ")\n",
    "\n",
    "# Mostrar\n",
    "plt.title('Cantidad de hechos por día de la semana')\n",
    "plt.xlabel('Día de la semana')\n",
    "plt.ylabel('Cantidad')\n",
    "plt.xticks(rotation=45)\n",
    "plt.show()"
   ]
  },
  {
   "cell_type": "code",
   "execution_count": null,
   "metadata": {
    "scrolled": true
   },
   "outputs": [],
   "source": [
    "#\n",
    "# Extraer hora\n",
    "\n",
    "Datos_ML['hora_hecho_hora'] = pd.to_datetime( Datos_ML['hora_hecho'] ).dt.hour\n",
    "\n",
    "Datos_ML['hora_hecho_hora'].hist( bins = 24 )\n",
    "\n",
    "plt.show()"
   ]
  },
  {
   "cell_type": "code",
   "execution_count": null,
   "metadata": {},
   "outputs": [],
   "source": [
    "#\n",
    "\n",
    "Datos_ML.sexo.value_counts()"
   ]
  },
  {
   "cell_type": "code",
   "execution_count": null,
   "metadata": {},
   "outputs": [],
   "source": [
    "#\n",
    "\n",
    "Datos_ML['edad'].hist( bins = 30 )\n",
    "\n",
    "plt.show()"
   ]
  },
  {
   "cell_type": "code",
   "execution_count": null,
   "metadata": {},
   "outputs": [],
   "source": [
    "# Filtramos casos en los que no transcurrió más de 1 año entre la denuncia y el evento:\n",
    "\n",
    "Datos_ML = Datos_ML[ ( Datos_ML['edad'] >= 0 ) & ( Datos_ML['edad'] <= 100 ) ]\n",
    "\n",
    "Datos_ML['edad'].hist( bins = 30 )\n",
    "\n",
    "plt.show()"
   ]
  },
  {
   "cell_type": "code",
   "execution_count": null,
   "metadata": {},
   "outputs": [],
   "source": [
    "# \n",
    "\n",
    "Datos_ML.info()"
   ]
  },
  {
   "cell_type": "code",
   "execution_count": null,
   "metadata": {},
   "outputs": [],
   "source": [
    "# Filtramos casos en los que no hay datos de longitud y latitud:\n",
    "\n",
    "#Datos_ML[ ( Datos_ML['latitud'].isnull() ) | ( Datos_ML['longitud'].isnull() ) ]\n",
    "\n",
    "Datos_ML = Datos_ML[ ( Datos_ML['latitud'].notnull() ) | ( Datos_ML['longitud'].notnull() ) ]\n",
    "\n",
    "Datos_ML.info()"
   ]
  },
  {
   "cell_type": "code",
   "execution_count": null,
   "metadata": {},
   "outputs": [],
   "source": [
    "#\n",
    "\n",
    "Datos_ML.plot(kind = 'scatter', x = 'longitud', y = 'latitud', alpha = 0.1)\n",
    "\n",
    "plt.show()"
   ]
  },
  {
   "cell_type": "code",
   "execution_count": null,
   "metadata": {},
   "outputs": [],
   "source": [
    "#\n",
    "\n",
    "Datos_ML = Datos_ML[ [ 'Periodo', 'categoria_delito', 'fecha_inicio', 'hora_inicio',\n",
    "                       'fecha_hecho', 'hora_hecho', 'fecha_hecho_dia', 'hora_hecho_hora',\n",
    "                       'sexo', 'edad', 'personas', 'Dias', 'latitud', 'longitud' ] ]"
   ]
  },
  {
   "cell_type": "code",
   "execution_count": null,
   "metadata": {},
   "outputs": [],
   "source": [
    "#\n",
    "\n",
    "Datos.shape, Datos_ML.shape, 100 * Datos_ML.shape[0] / Datos.shape[0]"
   ]
  },
  {
   "cell_type": "markdown",
   "metadata": {},
   "source": [
    "## SECCIÓN III:\n",
    "\n",
    "### Selección de datos\n",
    "\n",
    "* Usemos los datos previos a Julio de 2020 para entrenar un modelo que permita clasificar \"ROBO A TRANSEUNTE EN VÍA PÚBLICA CON Y SIN VIOLENCIA\""
   ]
  },
  {
   "cell_type": "code",
   "execution_count": null,
   "metadata": {},
   "outputs": [],
   "source": [
    "# Agrupamos por año-mes y categoria_delito de los DATOS ACTUALIZADOS\n",
    "\n",
    "Time_Serie_ML = Datos_ML[ ['Periodo', 'categoria_delito', \n",
    "                           'fecha_inicio'] ].groupby(\n",
    "                                 by = ['Periodo','categoria_delito']\n",
    "                           ).count().reset_index( drop = False).rename( \n",
    "                                   columns = {'categoria_delito': 'Categoria', \n",
    "                                              'fecha_inicio' : 'Numero'} )\n",
    "\n",
    "Time_Serie_ML"
   ]
  },
  {
   "cell_type": "code",
   "execution_count": null,
   "metadata": {},
   "outputs": [],
   "source": [
    "#\n",
    "\n",
    "Time_Serie_ML = pd.pivot_table( Time_Serie_ML, values = 'Numero', index = ['Periodo'], \n",
    "                                columns = ['Categoria'], aggfunc = 'sum' ).reset_index( drop = False )\n",
    "\n",
    "Time_Serie_ML"
   ]
  },
  {
   "cell_type": "code",
   "execution_count": null,
   "metadata": {},
   "outputs": [],
   "source": [
    "#\n",
    "Time_Serie_ML = Time_Serie_ML.drop('HECHO NO DELICTIVO', axis=1)\n",
    "Time_Serie_ML = Time_Serie_ML.drop('SECUESTRO', axis=1)\n",
    "Time_Serie_ML = Time_Serie_ML.drop('HOMICIDIO DOLOSO', axis=1)\n",
    "Time_Serie_ML = Time_Serie_ML.drop('VIOLACIÓN', axis=1)\n",
    "Time_Serie_ML = Time_Serie_ML.drop('LESIONES DOLOSAS POR DISPARO DE ARMA DE FUEGO', axis=1)\n",
    "Time_Serie_ML = Time_Serie_ML.drop('ROBO A CASA HABITACIÓN CON VIOLENCIA', axis=1)\n",
    "Time_Serie_ML = Time_Serie_ML.drop('ROBO A NEGOCIO CON VIOLENCIA', axis=1)\n",
    "Time_Serie_ML = Time_Serie_ML.drop('ROBO A REPARTIDOR CON Y SIN VIOLENCIA', axis=1)"
   ]
  },
  {
   "cell_type": "code",
   "execution_count": null,
   "metadata": {},
   "outputs": [],
   "source": [
    "# Visualización\n",
    "\n",
    "plt.style.use('ggplot') # 'ggplot', 'seaborn-darkgrid'\n",
    "\n",
    "plt.figure( figsize = ( 15, 6 ) )\n",
    "\n",
    "colors = cm.rainbow(np.linspace(0, 1, len(Time_Serie_ML.columns) - 1))\n",
    " \n",
    "# Plot multiple lines\n",
    "for num, column in enumerate(Time_Serie_ML.drop('Periodo', axis=1)):\n",
    "    plt.plot(Time_Serie_ML['Periodo'], Time_Serie_ML[column], \n",
    "             marker='', color=colors[num], linewidth=1, \n",
    "             alpha=0.9, label=column)\n",
    "\n",
    "# Add legend\n",
    "plt.legend(loc='upper left', bbox_to_anchor=(1, 1), ncol=1)\n",
    " \n",
    "# Add titles\n",
    "plt.title( 'Evolución de Victimas por Categorías de Crimen en CDMX (DATOS AJUSTADOS Y FILTRADOS)', \n",
    "           loc = 'left', fontsize = 11, fontweight = 0, color = 'darkblue' )\n",
    "plt.xlabel( 'Periodo' )\n",
    "plt.ylabel( '' )\n",
    "\n",
    "plt.xticks( rotation = 90 )\n",
    "\n",
    "# Adjust layout to make room for the legend\n",
    "plt.tight_layout()"
   ]
  },
  {
   "cell_type": "code",
   "execution_count": null,
   "metadata": {},
   "outputs": [],
   "source": [
    "#\n",
    "\n",
    "Time_Serie_ML = Time_Serie_ML.drop('DELITO DE BAJO IMPACTO', axis=1)"
   ]
  },
  {
   "cell_type": "code",
   "execution_count": null,
   "metadata": {},
   "outputs": [],
   "source": [
    "# Visualización\n",
    "\n",
    "plt.style.use('ggplot') # 'ggplot', 'seaborn-darkgrid'\n",
    "\n",
    "plt.figure( figsize = ( 15, 6 ) )\n",
    "\n",
    "colors = cm.rainbow(np.linspace(0, 1, len(Time_Serie_ML.columns) - 1))\n",
    " \n",
    "# Plot multiple lines\n",
    "for num, column in enumerate(Time_Serie_ML.drop('Periodo', axis=1)):\n",
    "    plt.plot(Time_Serie_ML['Periodo'], Time_Serie_ML[column], \n",
    "             marker='', color=colors[num], linewidth=1, \n",
    "             alpha=0.9, label=column)\n",
    "\n",
    "# Add legend\n",
    "plt.legend(loc='upper left', bbox_to_anchor=(1, 1), ncol=1)\n",
    " \n",
    "# Add titles\n",
    "plt.title( 'Evolución de Victimas por Categorías de Crimen en CDMX (DATOS AJUSTADOS)', \n",
    "           loc = 'left', fontsize = 11, fontweight = 0, color = 'darkblue' )\n",
    "plt.xlabel( 'Periodo' )\n",
    "plt.ylabel( '' )\n",
    "\n",
    "plt.xticks( rotation = 90 )\n",
    "\n",
    "# Adjust layout to make room for the legend\n",
    "plt.tight_layout()"
   ]
  },
  {
   "cell_type": "code",
   "execution_count": null,
   "metadata": {},
   "outputs": [],
   "source": [
    "# Selección de información para el modelo\n",
    "\n",
    "# Usaremos los DATOS ACTUALIZADOS de 2019 como conjunto para entrenar y probar nuestro modelo:\n",
    "\n",
    "Datos_01 = Datos_ML[ ( Datos_ML['Periodo'] >= '2019-01' ) & \\\n",
    "                     ( Datos_ML['Periodo'] <= '2019-12' ) ].reset_index( drop = True )\n",
    "\n",
    "# Usaremos los DATOS ACTUALIZADOS de 2023 como conjunto para reclasificar delitos con nuestro modelo:\n",
    "\n",
    "Datos_02 = Datos_ML[ ( Datos_ML['Periodo'] >= '2023-01' ) & \\\n",
    "                     ( Datos_ML['Periodo'] <= '2023-12' ) ].reset_index( drop = True )\n",
    "\n",
    "#\n",
    "Datos_01.shape, Datos_02.shape, 100*Datos_01.shape[0]/Datos_ML.shape[0], 100*Datos_02.shape[0]/Datos_ML.shape[0]"
   ]
  },
  {
   "cell_type": "code",
   "execution_count": null,
   "metadata": {},
   "outputs": [],
   "source": [
    "#\n",
    "\n",
    "Datos_01 = pd.concat( [ Datos_01, pd.get_dummies( Datos_01['sexo'], dtype = float) ], axis = 1 )\n",
    "\n",
    "Datos_01 = pd.concat( [ Datos_01, pd.get_dummies( Datos_01['personas'], dtype = float) ], axis = 1 )\n",
    "\n",
    "Datos_01 = pd.concat( [ Datos_01, pd.get_dummies( Datos_01['fecha_hecho_dia'].astype(str), dtype = float) ], axis = 1 )\n",
    "\n",
    "Datos_01 = pd.concat( [ Datos_01, pd.get_dummies( Datos_01['hora_hecho_hora'].astype(str), dtype = float) ], axis = 1 )\n",
    "\n",
    "Datos_01 = Datos_01[ [ 'Periodo', 'categoria_delito', 'fecha_hecho', 'hora_hecho', \n",
    "                       'fecha_hecho_dia', 'Monday', 'Tuesday', 'Wednesday', 'Thursday',\n",
    "                       'Friday', 'Saturday', 'Sunday', 'hora_hecho_hora', '0', '1', '2', \n",
    "                       '3', '4', '5', '6', '7', '8', '9', '10', '11', '12', '13', '14', \n",
    "                       '15', '16', '17', '18', '19', '20', '21', '22', '23', 'Dias', \n",
    "                       'sexo', 'Femenino', 'Masculino', 'edad', 'personas', 'Victima', \n",
    "                       'Victima_y_Otra', 'latitud', 'longitud',] ]"
   ]
  },
  {
   "cell_type": "code",
   "execution_count": null,
   "metadata": {
    "scrolled": true
   },
   "outputs": [],
   "source": [
    "#\n",
    "\n",
    "Datos_01.info()"
   ]
  },
  {
   "cell_type": "code",
   "execution_count": null,
   "metadata": {},
   "outputs": [],
   "source": [
    "#\n",
    "\n",
    "Datos_02 = pd.concat( [ Datos_02, pd.get_dummies( Datos_02['sexo'], dtype = float) ], axis = 1 )\n",
    "\n",
    "Datos_02 = pd.concat( [ Datos_02, pd.get_dummies( Datos_02['personas'], dtype = float) ], axis = 1 )\n",
    "\n",
    "Datos_02 = pd.concat( [ Datos_02, pd.get_dummies( Datos_02['fecha_hecho_dia'].astype(str), dtype = float) ], axis = 1 )\n",
    "\n",
    "Datos_02 = pd.concat( [ Datos_02, pd.get_dummies( Datos_02['hora_hecho_hora'].astype(str), dtype = float) ], axis = 1 )\n",
    "\n",
    "Datos_02 = Datos_02[ [ 'Periodo', 'categoria_delito', 'fecha_hecho', 'hora_hecho', \n",
    "                       'fecha_hecho_dia', 'Monday', 'Tuesday', 'Wednesday', 'Thursday',\n",
    "                       'Friday', 'Saturday', 'Sunday', 'hora_hecho_hora', '0', '1', '2', \n",
    "                       '3', '4', '5', '6', '7', '8', '9', '10', '11', '12', '13', '14', \n",
    "                       '15', '16', '17', '18', '19', '20', '21', '22', '23', 'Dias', \n",
    "                       'sexo', 'Femenino', 'Masculino', 'edad', 'personas', 'Victima', \n",
    "                       'Victima_y_Otra', 'latitud', 'longitud',] ]"
   ]
  },
  {
   "cell_type": "code",
   "execution_count": null,
   "metadata": {},
   "outputs": [],
   "source": [
    "#\n",
    "\n",
    "Datos_02.info()"
   ]
  },
  {
   "cell_type": "code",
   "execution_count": null,
   "metadata": {},
   "outputs": [],
   "source": [
    "#\n",
    "\n",
    "Datos_01.describe()"
   ]
  },
  {
   "cell_type": "code",
   "execution_count": null,
   "metadata": {},
   "outputs": [],
   "source": [
    "#\n",
    "\n",
    "Datos_02.describe()"
   ]
  },
  {
   "cell_type": "markdown",
   "metadata": {},
   "source": [
    "## SECCIÓN IV:\n",
    "\n",
    "### Modelado\n",
    "\n",
    "* Usemos los datos previos a Julio de 2020 para entrenar un modelo que permita clasificar \"ROBO A TRANSEUNTE EN VÍA PÚBLICA CON Y SIN VIOLENCIA\"\n",
    "\n",
    "* Plantearemos un modelo de respuesta binaria:\n",
    "\n",
    "Este tipo de modelos suponene que existe una variable latente que se puede expresar como una ecuación lineal dada por:\n",
    "$$y^*_i = \\mathbf{x}_i \\boldsymbol{\\beta} + \\varepsilon_i$$\n",
    "\n",
    "Donde $\\varepsilon_i$ es una variable aleatoria con función de densidad con media cero y distribución simetrica al rededor de cero. Dado lo anterior, para nosotros sólo es visible que:\n",
    "\\begin{equation*}\n",
    "    y_i = \n",
    "    \\begin{cases}\n",
    "        1 & \\text{si } y^*_i > 0 \\\\\n",
    "        0 & \\text{si } y^*_i < 0 \n",
    "    \\end{cases}\n",
    "\\end{equation*}\n",
    "\n",
    "Visto en nuestro caso, podemos pensar que estamos ante algo como:\n",
    "\\begin{equation*}\n",
    "    y_i = \n",
    "    \\begin{cases}\n",
    "        \\text{ ROBO A TRANSEUNTE EN VÍA PÚBLICA CON Y SIN VIOLENCIA } & \\text{si } y^*_i > 0 \\\\\n",
    "        \\text{ OTRO CASO } & \\text{si } y^*_i < 0 \n",
    "    \\end{cases}\n",
    "\\end{equation*}\n",
    "\n",
    "De esta forma tenemos una estrucutura de la probabilidad dada por:\n",
    "\\begin{eqnarray*}\n",
    "    P(y_i = 1 | \\mathbf{x}_i) & = & P(\\mathbf{x}_i \\boldsymbol{\\beta} + \\varepsilon_i > 0) = P(\\varepsilon_i > - \\mathbf{x}_i \\boldsymbol{\\beta}) = G(\\mathbf{x}_i \\boldsymbol{\\beta}) \\\\\n",
    "    P(y_i = 0 | \\mathbf{x}_i) & = & P(\\mathbf{x}_i \\boldsymbol{\\beta} + \\varepsilon_i < 0) = P(\\varepsilon_i < - \\mathbf{x}_i \\boldsymbol{\\beta}) = 1 - G(\\mathbf{x}_i \\boldsymbol{\\beta})\n",
    "\\end{eqnarray*}\n",
    "\n",
    "Donde $\\mathbf{x}_i$ es un vector de dimensión $K \\times 1$ que contiene al menos el término constante y $\\boldsymbol{\\beta}$ es un vector de parámetros a estimar, de forma que asumiremos:\n",
    "\\begin{equation*}\n",
    "    \\mathbf{x}_i \\boldsymbol{\\beta} = \\beta_1 + x_{i2} \\beta_2 + \\ldots + x_{iK} \\beta_K\n",
    "\\end{equation*}\n",
    "\n",
    "Asumiremos que $G(\\cdot)$ es uan función de densidad acumulada de forma que:\n",
    "\\begin{equation*}\n",
    "    0< G(\\mathbf{x}_i \\boldsymbol{\\beta}) < 1 \\text{ , } \\forall \\mathbf{x}_i \\boldsymbol{\\beta} \\in \\mathbb{R}\n",
    "\\end{equation*}\n",
    "\n",
    "En este caso utilizaremos dos modelos que dependen de la forma funcional de $G(\\cdot)$ que está determinada por la distribución de $\\varepsilon_i$. De esta forma tendremos dos modelos: Probit y Logit."
   ]
  },
  {
   "cell_type": "code",
   "execution_count": null,
   "metadata": {},
   "outputs": [],
   "source": [
    "#\n",
    "Datos_01.shape"
   ]
  },
  {
   "cell_type": "code",
   "execution_count": null,
   "metadata": {},
   "outputs": [],
   "source": [
    "# Seleccionamos solo los casos de interés para Dataset 01\n",
    "\n",
    "Datos_01 = Datos_01[ ( Datos_01['categoria_delito'] == 'DELITO DE BAJO IMPACTO' ) | \\\n",
    "                     ( Datos_01['categoria_delito'] == 'ROBO A TRANSEUNTE EN VÍA PÚBLICA CON Y SIN VIOLENCIA' ) ]\n",
    "\n",
    "# Variable categórica:\n",
    "Datos_01[ 'Delito' ] = 0\n",
    "\n",
    "Datos_01.loc[ Datos_01['categoria_delito'] == 'ROBO A TRANSEUNTE EN VÍA PÚBLICA CON Y SIN VIOLENCIA', 'Delito'] = 1"
   ]
  },
  {
   "cell_type": "code",
   "execution_count": null,
   "metadata": {},
   "outputs": [],
   "source": [
    "#\n",
    "Datos_01.shape"
   ]
  },
  {
   "cell_type": "code",
   "execution_count": null,
   "metadata": {},
   "outputs": [],
   "source": [
    "#\n",
    "\n",
    "sn.countplot( x = 'Delito', data = Datos_01)\n",
    "\n",
    "plt.show()"
   ]
  },
  {
   "cell_type": "code",
   "execution_count": null,
   "metadata": {},
   "outputs": [],
   "source": [
    "#\n",
    "Datos_01.Delito.describe()"
   ]
  },
  {
   "cell_type": "code",
   "execution_count": null,
   "metadata": {},
   "outputs": [],
   "source": [
    "#\n",
    "Datos_02.shape"
   ]
  },
  {
   "cell_type": "code",
   "execution_count": null,
   "metadata": {},
   "outputs": [],
   "source": [
    "# Seleccionamos solo los casos de interés para Dataset 02\n",
    "\n",
    "Datos_02 = Datos_02[ ( Datos_02['categoria_delito'] == 'DELITO DE BAJO IMPACTO' ) | \\\n",
    "                     ( Datos_02['categoria_delito'] == 'ROBO A TRANSEUNTE EN VÍA PÚBLICA CON Y SIN VIOLENCIA' ) ]\n",
    "\n",
    "# Variable categórica:\n",
    "Datos_02[ 'Delito' ] = 0\n",
    "\n",
    "Datos_02.loc[ Datos_02['categoria_delito'] == 'ROBO A TRANSEUNTE EN VÍA PÚBLICA CON Y SIN VIOLENCIA', 'Delito'] = 1"
   ]
  },
  {
   "cell_type": "code",
   "execution_count": null,
   "metadata": {},
   "outputs": [],
   "source": [
    "#\n",
    "Datos_02.shape"
   ]
  },
  {
   "cell_type": "code",
   "execution_count": null,
   "metadata": {},
   "outputs": [],
   "source": [
    "#\n",
    "\n",
    "sn.countplot( x = 'Delito', data = Datos_02)\n",
    "\n",
    "plt.show()"
   ]
  },
  {
   "cell_type": "code",
   "execution_count": null,
   "metadata": {},
   "outputs": [],
   "source": [
    "#\n",
    "Datos_02.Delito.describe()"
   ]
  },
  {
   "cell_type": "markdown",
   "metadata": {},
   "source": [
    "### Logistic Regression\n",
    "Logistic regression is a type of regression analysis in statistics used for prediction of outcome of a categorical dependent variable from a set of predictor or independent variables. In logistic regression the dependent variable is always binary. Logistic regression is mainly used to for prediction and also calculating the probability of success."
   ]
  },
  {
   "cell_type": "code",
   "execution_count": null,
   "metadata": {},
   "outputs": [],
   "source": [
    "# Add constant\n",
    "\n",
    "Datos_01[ 'Constante' ] = 1 "
   ]
  },
  {
   "cell_type": "code",
   "execution_count": null,
   "metadata": {},
   "outputs": [],
   "source": [
    "# Selecciones las columnas de nuestra regresión:\n",
    "\n",
    "Datos_01.columns"
   ]
  },
  {
   "cell_type": "code",
   "execution_count": null,
   "metadata": {},
   "outputs": [],
   "source": [
    "# Model\n",
    "\n",
    "model = sm.Logit( \n",
    "    Datos_01.Delito, # Y\n",
    "    Datos_01[[ 'Constante', \n",
    "               'Monday', 'Tuesday', 'Wednesday', 'Thursday', 'Friday', 'Saturday', # Quitamos el domingo\n",
    "               '1', '2', '3', '4', '5', '6', '7', '8', '9', '10', '11', '12', '13', '14', \n",
    "               '15', '16', '17', '18', '19', '20', '21', '22', '23', # Quitamos la hora 0\n",
    "               'Femenino', # Quitamos la dummy de masculino\n",
    "               'Victima', # Quitamos la dummy de cuando la denuncia la hace alguien más que la victima\n",
    "               'Dias', 'edad', 'latitud', 'longitud']]\n",
    ")\n",
    "\n",
    "result = model.fit()\n",
    "\n",
    "result.summary()"
   ]
  },
  {
   "cell_type": "code",
   "execution_count": null,
   "metadata": {},
   "outputs": [],
   "source": [
    "#\n",
    "\n",
    "print(result.summary())"
   ]
  },
  {
   "cell_type": "code",
   "execution_count": null,
   "metadata": {},
   "outputs": [],
   "source": [
    "# Rebalanceamos la muestra:\n",
    "\n",
    "# 1. Selección de muestra 32% del caso delito 0\n",
    "Datos_01_train, Datos_01_test = train_test_split( Datos_01[ Datos_01['Delito'] == 0 ], \n",
    "                                                  test_size = 0.68, random_state = 42 )\n",
    "\n",
    "# 2. Juntamos delitos 0 y 1\n",
    "Datos_01_train = pd.concat( [ Datos_01[ Datos_01['Delito'] == 1 ], Datos_01_train ], ignore_index = True )\n",
    "\n",
    "Datos_01.shape, Datos_01_train.shape"
   ]
  },
  {
   "cell_type": "code",
   "execution_count": null,
   "metadata": {},
   "outputs": [],
   "source": [
    "#\n",
    "\n",
    "sn.countplot( x = 'Delito', data = Datos_01_train)\n",
    "\n",
    "plt.show()"
   ]
  },
  {
   "cell_type": "code",
   "execution_count": null,
   "metadata": {},
   "outputs": [],
   "source": [
    "#\n",
    "Datos_01_train.Delito.describe()"
   ]
  },
  {
   "cell_type": "code",
   "execution_count": null,
   "metadata": {},
   "outputs": [],
   "source": [
    "#\n",
    "Datos_01_train.describe()"
   ]
  },
  {
   "cell_type": "code",
   "execution_count": null,
   "metadata": {},
   "outputs": [],
   "source": [
    "#\n",
    "Datos_01.describe()"
   ]
  },
  {
   "cell_type": "code",
   "execution_count": null,
   "metadata": {},
   "outputs": [],
   "source": [
    "# Model\n",
    "\n",
    "model_adj = sm.Logit( \n",
    "    Datos_01_train.Delito,\n",
    "    Datos_01_train[[ 'Constante', \n",
    "                     'Monday', 'Tuesday', 'Wednesday', 'Thursday', 'Friday', 'Saturday', # Quitamos el domingo\n",
    "                     '1', '2', '3', '4', '5', '6', '7', '8', '9', '10', '11', '12', '13', '14', \n",
    "                     '15', '16', '17', '18', '19', '20', '21', '22', '23', # Quitamos la hora 0\n",
    "                     'Femenino', # Quitamos la dummy de masculino\n",
    "                     'Victima', # Quitamos la dummy de cuando la denuncia la hace alguien más que la victima\n",
    "                     'Dias', 'edad', 'latitud', 'longitud']]\n",
    ")\n",
    "\n",
    "result_adj = model_adj.fit()\n",
    "print(result_adj.summary())"
   ]
  },
  {
   "cell_type": "markdown",
   "metadata": {},
   "source": [
    "### Implementemos / entrenemos nuestro modelo"
   ]
  },
  {
   "cell_type": "code",
   "execution_count": null,
   "metadata": {},
   "outputs": [],
   "source": [
    "#\n",
    "\n",
    "X = Datos_01_train[[ 'Constante', 'Monday', 'Tuesday', 'Wednesday', 'Thursday', 'Friday', 'Saturday', \n",
    "                     '1', '2', '3', '4', '5', '6', '7', '8', '9', '10', '11', '12', '13', '14', \n",
    "                     '15', '16', '17', '18', '19', '20', '21', '22', '23', \n",
    "                     'Femenino', 'Victima', 'Dias', 'edad', 'latitud', 'longitud']]\n",
    "y = Datos_01_train.Delito\n",
    "\n",
    "X_train, X_test, y_train, y_test = train_test_split( X, y, test_size = 0.20, random_state = 5)"
   ]
  },
  {
   "cell_type": "code",
   "execution_count": null,
   "metadata": {},
   "outputs": [],
   "source": [
    "# Del sklearn\n",
    "\n",
    "logreg = LogisticRegression()\n",
    "logreg.fit(X_train, y_train)\n",
    "\n",
    "y_pred = logreg.predict(X_test)"
   ]
  },
  {
   "cell_type": "code",
   "execution_count": null,
   "metadata": {},
   "outputs": [],
   "source": [
    "# Model accuracy\n",
    "\n",
    "accuracy_score( y_test, y_pred )"
   ]
  },
  {
   "cell_type": "code",
   "execution_count": null,
   "metadata": {},
   "outputs": [],
   "source": [
    "# Confusion matrix\n",
    "\n",
    "cm = confusion_matrix( y_test, y_pred )\n",
    "\n",
    "conf_matrix = pd.DataFrame( data = cm, \n",
    "                            columns = ['Predicted:0','Predicted:1'],\n",
    "                            index = ['Actual:0','Actual:1'] )\n",
    "\n",
    "conf_matrix"
   ]
  },
  {
   "cell_type": "code",
   "execution_count": null,
   "metadata": {},
   "outputs": [],
   "source": [
    "#\n",
    "\n",
    "plt.figure( figsize = (8,5) )\n",
    "\n",
    "sn.heatmap( conf_matrix, annot = True, fmt = 'd', cmap = \"YlGnBu\" )\n",
    "\n",
    "plt.show()"
   ]
  },
  {
   "cell_type": "code",
   "execution_count": null,
   "metadata": {},
   "outputs": [],
   "source": [
    "# accuracy\n",
    "\n",
    "(7316 + 430) / (7316 + 430 + 344 + 2180)"
   ]
  },
  {
   "cell_type": "code",
   "execution_count": null,
   "metadata": {},
   "outputs": [],
   "source": [
    "# Model Evaluation - Statistics\n",
    "\n",
    "TN=cm[0,0]\n",
    "TP=cm[1,1]\n",
    "FN=cm[1,0]\n",
    "FP=cm[0,1]\n",
    "sensitivity=TP/float(TP+FN)\n",
    "specificity=TN/float(TN+FP)\n",
    "\n",
    "print('The acuuracy of the model = TP+TN/(TP+TN+FP+FN) = ',(TP+TN)/float(TP+TN+FP+FN),'\\n',\n",
    "\n",
    "'The Missclassification = 1-Accuracy = ',1-((TP+TN)/float(TP+TN+FP+FN)),'\\n',\n",
    "\n",
    "'Sensitivity or True Positive Rate = TP/(TP+FN) = ',TP/float(TP+FN),'\\n',\n",
    "\n",
    "'Specificity or True Negative Rate = TN/(TN+FP) = ',TN/float(TN+FP),'\\n',\n",
    "\n",
    "'Positive Predictive value = TP/(TP+FP) = ',TP/float(TP+FP),'\\n',\n",
    "\n",
    "'Negative predictive Value = TN/(TN+FN) = ',TN/float(TN+FN),'\\n',\n",
    "\n",
    "'Positive Likelihood Ratio = Sensitivity/(1-Specificity) = ',sensitivity/(1-specificity),'\\n',\n",
    "\n",
    "'Negative likelihood Ratio = (1-Sensitivity)/Specificity = ',(1-sensitivity)/specificity)"
   ]
  },
  {
   "cell_type": "code",
   "execution_count": null,
   "metadata": {},
   "outputs": [],
   "source": [
    "# Calculamos las probabiliades:\n",
    "\n",
    "y_pred_prob    = logreg.predict_proba( X_test )[: , :]\n",
    "\n",
    "y_pred_prob_df = pd.DataFrame( data = y_pred_prob, \n",
    "                               columns = ['Prob de delito bajo impacto (0)','Prob de robo (1)'] )\n",
    "\n",
    "y_pred_prob_df.head()"
   ]
  },
  {
   "cell_type": "markdown",
   "metadata": {},
   "source": [
    "### ROC curve\n",
    "\n",
    "Una forma común de visualizar las compensaciones de diferentes umbrales es mediante el uso de una curva ROC, un gráfico de la tasa de verdaderos positivos (# verdaderos positivos/# total de positivos) versus la tasa de falsos positivos (# falsos positivos/# total de negativos) para todas las opciones posibles de umbrales. Un modelo con buena precisión de clasificación debería tener significativamente más positivos verdaderos que falsos positivos en todos los umbrales.\n",
    "\n",
    "La posición óptima para la curva roc es hacia la esquina superior izquierda, donde la especificidad y la sensibilidad están en niveles óptimos.\n",
    "\n",
    "Área bajo la curva (AUC). El área bajo la curva ROC cuantifica la precisión de la clasificación del modelo; cuanto mayor sea el área, mayor será la disparidad entre los verdaderos y falsos positivos, y más fuerte será el modelo para clasificar los miembros del conjunto de datos de entrenamiento. Un área de 0,5 corresponde a un modelo que no funciona mejor que la clasificación aleatoria y un buen clasificador se mantiene lo más lejos posible de eso. Un área de 1 es ideal. Cuanto más cerca esté el AUC de 1, mejor."
   ]
  },
  {
   "cell_type": "code",
   "execution_count": null,
   "metadata": {},
   "outputs": [],
   "source": [
    "#\n",
    "\n",
    "fpr, tpr, thresholds = roc_curve( y_test, y_pred_prob_df.iloc[:,1] )\n",
    "\n",
    "#\n",
    "plt.plot(fpr,tpr)\n",
    "plt.xlim([0.0, 1.01])\n",
    "plt.ylim([0.0, 1.01])\n",
    "plt.title('ROC curve for theft crime')\n",
    "plt.xlabel('False positive rate (1-Specificity)')\n",
    "plt.ylabel('True positive rate (Sensitivity)')\n",
    "plt.grid(True)"
   ]
  },
  {
   "cell_type": "code",
   "execution_count": null,
   "metadata": {},
   "outputs": [],
   "source": [
    "#\n",
    "\n",
    "roc_auc_score(y_test, y_pred_prob_df.iloc[:,1])"
   ]
  },
  {
   "cell_type": "markdown",
   "metadata": {},
   "source": [
    "## SECCIÓN V:\n",
    "\n",
    "### Prediciendo sobre el dataset que queremos clasificar\n",
    "\n",
    "* Usemos los datos de 2023 para clasificar \"ROBO A TRANSEUNTE EN VÍA PÚBLICA CON Y SIN VIOLENCIA\""
   ]
  },
  {
   "cell_type": "code",
   "execution_count": null,
   "metadata": {},
   "outputs": [],
   "source": [
    "# Seleccionamos solo los casos de interés para Dataset 02\n",
    "\n",
    "Datos_02 = Datos_02[ ( Datos_02['categoria_delito'] == 'DELITO DE BAJO IMPACTO' ) | \\\n",
    "                     ( Datos_02['categoria_delito'] == 'ROBO A TRANSEUNTE EN VÍA PÚBLICA CON Y SIN VIOLENCIA' ) ]\n",
    "\n",
    "# Variable categórica:\n",
    "Datos_02[ 'Delito' ] = 0\n",
    "\n",
    "Datos_02.loc[ Datos_02['categoria_delito'] == 'ROBO A TRANSEUNTE EN VÍA PÚBLICA CON Y SIN VIOLENCIA', 'Delito'] = 1"
   ]
  },
  {
   "cell_type": "code",
   "execution_count": null,
   "metadata": {},
   "outputs": [],
   "source": [
    "#\n",
    "\n",
    "sn.countplot( x = 'Delito', data = Datos_02)\n",
    "\n",
    "plt.show()"
   ]
  },
  {
   "cell_type": "code",
   "execution_count": null,
   "metadata": {},
   "outputs": [],
   "source": [
    "#\n",
    "\n",
    "Datos_02.describe()"
   ]
  },
  {
   "cell_type": "code",
   "execution_count": null,
   "metadata": {},
   "outputs": [],
   "source": [
    "#\n",
    "\n",
    "Datos_02[ 'Constante' ] = 1\n",
    "\n",
    "X_New = Datos_02[[ 'Constante', 'Monday', 'Tuesday', 'Wednesday', 'Thursday', 'Friday', 'Saturday', \n",
    "                   '1', '2', '3', '4', '5', '6', '7', '8', '9', '10', '11', '12', '13', '14', \n",
    "                   '15', '16', '17', '18', '19', '20', '21', '22', '23', \n",
    "                   'Femenino', 'Victima', 'Dias', 'edad', 'latitud', 'longitud']]\n",
    "\n",
    "Datos_02[ 'Delito_Predict' ] = logreg.predict(X_New)"
   ]
  },
  {
   "cell_type": "code",
   "execution_count": null,
   "metadata": {},
   "outputs": [],
   "source": [
    "#\n",
    "\n",
    "sn.countplot( x = 'Delito_Predict', data = Datos_02)\n",
    "\n",
    "plt.show()"
   ]
  },
  {
   "cell_type": "code",
   "execution_count": null,
   "metadata": {},
   "outputs": [],
   "source": [
    "#\n",
    "\n",
    "Datos_02[ ['Delito', 'Delito_Predict'] ].describe()"
   ]
  },
  {
   "cell_type": "markdown",
   "metadata": {},
   "source": [
    "## SECCIÓN VI:\n",
    "\n",
    "### Prediciendo sobre el dataset que queremos clasificar OLD\n",
    "\n",
    "* Usemos los datos antes de la re-clasificación\""
   ]
  },
  {
   "cell_type": "code",
   "execution_count": null,
   "metadata": {},
   "outputs": [],
   "source": [
    "#\n",
    "\n",
    "Datos_OLD.Periodo.value_counts()"
   ]
  },
  {
   "cell_type": "code",
   "execution_count": null,
   "metadata": {},
   "outputs": [],
   "source": [
    "# Selección de información para el modelo\n",
    "# Usaremos los DATOS ACTUALIZADOS:\n",
    "\n",
    "Datos_OLD_ML = Datos_OLD[ Datos_OLD['Periodo'] >= '2019-01' ]\n",
    "\n",
    "Datos_OLD_ML = Datos_OLD_ML[ [ 'Periodo','FechaInicio', 'HoraInicio', 'FechaHecho', 'HoraHecho', 'Categoria',\n",
    "                               'Sexo', 'Edad', 'TipoPersona', 'CalidadJuridica', 'latitud', 'longitud' ] ]\n"
   ]
  },
  {
   "cell_type": "code",
   "execution_count": null,
   "metadata": {},
   "outputs": [],
   "source": [
    "#\n",
    "\n",
    "original = [ 'Periodo','FechaInicio', 'HoraInicio', 'FechaHecho', 'HoraHecho', 'Categoria',\n",
    "             'Sexo', 'Edad', 'TipoPersona', 'CalidadJuridica', 'latitud', 'longitud' ]\n",
    "\n",
    "nuevo = [ 'Periodo','fecha_inicio', 'hora_inicio', 'fecha_hecho', 'hora_hecho', 'categoria_delito',\n",
    "          'sexo', 'edad', 'tipo_persona', 'calidad_juridica', 'latitud', 'longitud' ]\n",
    "\n",
    "# Si estás usando pandas, sería así:\n",
    "Datos_OLD_ML.rename( columns = dict( zip(original, nuevo) ), inplace = True)\n",
    "\n",
    "Datos_OLD_ML.info()"
   ]
  },
  {
   "cell_type": "code",
   "execution_count": null,
   "metadata": {},
   "outputs": [],
   "source": [
    "#\n",
    "\n",
    "Datos_OLD_ML.Periodo.value_counts()"
   ]
  },
  {
   "cell_type": "code",
   "execution_count": null,
   "metadata": {},
   "outputs": [],
   "source": [
    "#\n",
    "\n",
    "Datos_OLD_ML.categoria_delito.value_counts()"
   ]
  },
  {
   "cell_type": "code",
   "execution_count": null,
   "metadata": {},
   "outputs": [],
   "source": [
    "#\n",
    "\n",
    "Datos_OLD_ML.tipo_persona.value_counts()"
   ]
  },
  {
   "cell_type": "code",
   "execution_count": null,
   "metadata": {},
   "outputs": [],
   "source": [
    "#\n",
    "\n",
    "pd.crosstab( Datos_OLD_ML['Periodo'], Datos_OLD_ML['tipo_persona'] , normalize = 'index' )"
   ]
  },
  {
   "cell_type": "code",
   "execution_count": null,
   "metadata": {},
   "outputs": [],
   "source": [
    "#\n",
    "\n",
    "Datos_OLD_ML = Datos_OLD_ML[ Datos_OLD_ML['tipo_persona'] != 'MORAL' ]"
   ]
  },
  {
   "cell_type": "code",
   "execution_count": null,
   "metadata": {},
   "outputs": [],
   "source": [
    "#\n",
    "\n",
    "Datos_OLD_ML.calidad_juridica.value_counts()"
   ]
  },
  {
   "cell_type": "code",
   "execution_count": null,
   "metadata": {},
   "outputs": [],
   "source": [
    "#\n",
    "Datos_OLD_ML['personas'] = 'NA'\n",
    "#\n",
    "Datos_OLD_ML.loc[ Datos_OLD_ML['calidad_juridica'] == 'VICTIMA Y DENUNCIANTE', 'personas'] = 'Victima_y_Otra'\n",
    "Datos_OLD_ML.loc[ Datos_OLD_ML['calidad_juridica'] == 'OFENDIDO Y DENUNCIANTE', 'personas'] = 'Victima_y_Otra'\n",
    "#\n",
    "Datos_OLD_ML.loc[ Datos_OLD_ML['calidad_juridica'] == 'OFENDIDO', 'personas'] = 'Victima'\n",
    "Datos_OLD_ML.loc[ Datos_OLD_ML['calidad_juridica'] == 'VICTIMA', 'personas'] = 'Victima'\n",
    "Datos_OLD_ML.loc[ Datos_OLD_ML['calidad_juridica'] == 'LESIONADO', 'personas'] = 'Victima'\n",
    "Datos_OLD_ML.loc[ Datos_OLD_ML['calidad_juridica'] == 'CADAVER', 'personas'] = 'Victima'\n",
    "Datos_OLD_ML.loc[ Datos_OLD_ML['calidad_juridica'] == 'AGRAVIADO', 'personas'] = 'Victima'\n",
    "\n",
    "#Datos_OLD_ML.personas.value_counts()\n",
    "Datos_OLD_ML = Datos_OLD_ML[ Datos_OLD_ML['personas'] != 'NA' ]\n",
    "\n",
    "#\n",
    "\n",
    "Datos_OLD_ML.personas.value_counts()"
   ]
  },
  {
   "cell_type": "code",
   "execution_count": null,
   "metadata": {},
   "outputs": [],
   "source": [
    "# Creamos una variable de días\n",
    "\n",
    "Datos_OLD_ML['Dias'] = (\n",
    "    pd.to_timedelta( \n",
    "        pd.to_datetime(Datos_OLD_ML['fecha_inicio'] + '-' + Datos_OLD_ML['hora_inicio'], \n",
    "                       format='%d/%m/%Y-%H:%M:%S') -\n",
    "        pd.to_datetime(Datos_OLD_ML['fecha_hecho'] + '-' + Datos_OLD_ML['hora_hecho'], \n",
    "                       format='%d/%m/%Y-%H:%M:%S')\n",
    "    ).dt.total_seconds() / 3600  # convierte a horas\n",
    ") / 24  # convierte a días\n",
    "\n",
    "# Graficar histograma\n",
    "Datos_OLD_ML['Dias'].hist(bins=30)\n",
    "plt.xlabel('Días entre hecho e inicio')\n",
    "plt.ylabel('Frecuencia')\n",
    "plt.title('Distribución de días transcurridos')\n",
    "plt.show()"
   ]
  },
  {
   "cell_type": "code",
   "execution_count": null,
   "metadata": {},
   "outputs": [],
   "source": [
    "# Filtramos casos en los que no transcurrió más de 1 año entre la denuncia y el evento:\n",
    "\n",
    "Datos_OLD_ML = Datos_OLD_ML[ ( Datos_OLD_ML['Dias'] >= 0 ) & ( Datos_OLD_ML['Dias'] <= 365 ) ]\n",
    "\n",
    "Datos_OLD_ML['Dias'].hist( bins = 30 )\n",
    "plt.xlabel('Días entre hecho e inicio')\n",
    "plt.ylabel('Frecuencia')\n",
    "plt.title('Distribución de días transcurridos')\n",
    "plt.show()"
   ]
  },
  {
   "cell_type": "code",
   "execution_count": null,
   "metadata": {},
   "outputs": [],
   "source": [
    "#\n",
    "# Extraer el día de la semana \n",
    "\n",
    "Datos_OLD_ML['fecha_hecho_dia'] = pd.to_datetime( Datos_OLD_ML['fecha_hecho'], dayfirst=True ).dt.day_name()\n",
    "\n",
    "colores_dias = {\n",
    "    'Monday': 'red',\n",
    "    'Tuesday': 'orange',\n",
    "    'Wednesday': 'yellow',\n",
    "    'Thursday': 'green',\n",
    "    'Friday': 'blue',\n",
    "    'Saturday': 'purple',\n",
    "    'Sunday': 'pink'\n",
    "}\n",
    "\n",
    "# Crear el gráfico\n",
    "plt.figure(figsize=(10,6))\n",
    "orden_dias = ['Monday', 'Tuesday', 'Wednesday', 'Thursday', 'Friday', 'Saturday', 'Sunday']\n",
    "\n",
    "barras = sn.countplot(\n",
    "    x=\"fecha_hecho_dia\", \n",
    "    data=Datos_OLD_ML,\n",
    "    order=orden_dias,  # Para que salgan en orden correcto\n",
    "    palette=[colores_dias[dia] for dia in orden_dias]\n",
    ")\n",
    "\n",
    "# Mostrar\n",
    "plt.title('Cantidad de hechos por día de la semana')\n",
    "plt.xlabel('Día de la semana')\n",
    "plt.ylabel('Cantidad')\n",
    "plt.xticks(rotation=45)\n",
    "plt.show()"
   ]
  },
  {
   "cell_type": "code",
   "execution_count": null,
   "metadata": {},
   "outputs": [],
   "source": [
    "#\n",
    "# Extraer hora\n",
    "\n",
    "Datos_OLD_ML['hora_hecho_hora'] = pd.to_datetime( Datos_OLD_ML['hora_hecho'] ).dt.hour\n",
    "\n",
    "Datos_OLD_ML['hora_hecho_hora'].hist( bins = 24 )\n",
    "\n",
    "plt.show()"
   ]
  },
  {
   "cell_type": "code",
   "execution_count": null,
   "metadata": {},
   "outputs": [],
   "source": [
    "#\n",
    "\n",
    "Datos_OLD_ML.sexo.value_counts()"
   ]
  },
  {
   "cell_type": "code",
   "execution_count": null,
   "metadata": {},
   "outputs": [],
   "source": [
    "#\n",
    "\n",
    "Datos_OLD_ML['edad'].hist( bins = 30 )\n",
    "\n",
    "plt.show()"
   ]
  },
  {
   "cell_type": "code",
   "execution_count": null,
   "metadata": {},
   "outputs": [],
   "source": [
    "# Filtramos casos en los que no transcurrió más de 1 año entre la denuncia y el evento:\n",
    "\n",
    "Datos_OLD_ML = Datos_OLD_ML[ ( Datos_OLD_ML['edad'] >= 0 ) & ( Datos_OLD_ML['edad'] <= 100 ) ]\n",
    "\n",
    "Datos_OLD_ML['edad'].hist( bins = 30 )\n",
    "\n",
    "plt.show()"
   ]
  },
  {
   "cell_type": "code",
   "execution_count": null,
   "metadata": {},
   "outputs": [],
   "source": [
    "# \n",
    "\n",
    "Datos_OLD_ML.info()"
   ]
  },
  {
   "cell_type": "code",
   "execution_count": null,
   "metadata": {},
   "outputs": [],
   "source": [
    "# Filtramos casos en los que no hay datos de longitud y latitud:\n",
    "\n",
    "#Datos_OLD_ML[ ( Datos_OLD_ML['latitud'].isnull() ) | ( Datos_OLD_ML['longitud'].isnull() ) ]\n",
    "\n",
    "Datos_OLD_ML = Datos_OLD_ML[ ( Datos_OLD_ML['latitud'].notnull() ) | ( Datos_OLD_ML['longitud'].notnull() ) ]\n",
    "\n",
    "Datos_OLD_ML.info()"
   ]
  },
  {
   "cell_type": "code",
   "execution_count": null,
   "metadata": {},
   "outputs": [],
   "source": [
    "# Filtramos casos en los que no hay datos de tipo de persona:\n",
    "\n",
    "Datos_OLD_ML = Datos_OLD_ML[ ( Datos_OLD_ML['tipo_persona'].notnull() )  ]\n",
    "\n",
    "Datos_OLD_ML.info()"
   ]
  },
  {
   "cell_type": "code",
   "execution_count": null,
   "metadata": {},
   "outputs": [],
   "source": [
    "#\n",
    "\n",
    "Datos_OLD_ML.plot(kind = 'scatter', x = 'longitud', y = 'latitud', alpha = 0.1)\n",
    "\n",
    "plt.show()\n",
    "\n",
    "#"
   ]
  },
  {
   "cell_type": "code",
   "execution_count": null,
   "metadata": {},
   "outputs": [],
   "source": [
    "#\n",
    "Datos_OLD_ML = Datos_OLD_ML[  Datos_OLD_ML['latitud'] > 17 ]\n",
    "\n",
    "Datos_OLD_ML.plot(kind = 'scatter', x = 'longitud', y = 'latitud', alpha = 0.1)\n",
    "\n",
    "plt.show()"
   ]
  },
  {
   "cell_type": "code",
   "execution_count": null,
   "metadata": {},
   "outputs": [],
   "source": [
    "#\n",
    "Datos_OLD_ML = Datos_OLD_ML[ [ 'Periodo', 'categoria_delito', 'fecha_inicio', 'hora_inicio',\n",
    "                       'fecha_hecho', 'hora_hecho', 'fecha_hecho_dia', 'hora_hecho_hora',\n",
    "                       'sexo', 'edad', 'personas', 'Dias', 'latitud', 'longitud' ] ]\n",
    "\n",
    "#\n",
    "\n",
    "Datos_OLD.shape, Datos_OLD_ML.shape, 100 * Datos_OLD_ML.shape[0] / Datos_OLD.shape[0]"
   ]
  },
  {
   "cell_type": "code",
   "execution_count": null,
   "metadata": {},
   "outputs": [],
   "source": [
    "#\n",
    "\n",
    "Datos_OLD_ML = pd.concat( [ Datos_OLD_ML, pd.get_dummies( Datos_OLD_ML['sexo'], dtype = float) ], axis = 1 )\n",
    "\n",
    "Datos_OLD_ML = pd.concat( [ Datos_OLD_ML, pd.get_dummies( Datos_OLD_ML['personas'], dtype = float) ], axis = 1 )\n",
    "\n",
    "Datos_OLD_ML = pd.concat( [ Datos_OLD_ML, pd.get_dummies( Datos_OLD_ML['fecha_hecho_dia'].astype(str), dtype = float) ], axis = 1 )\n",
    "\n",
    "Datos_OLD_ML = pd.concat( [ Datos_OLD_ML, pd.get_dummies( Datos_OLD_ML['hora_hecho_hora'].astype(str), dtype = float) ], axis = 1 )\n",
    "\n",
    "Datos_OLD_ML = Datos_OLD_ML[ [ 'Periodo', 'categoria_delito', 'fecha_hecho', 'hora_hecho', \n",
    "                       'fecha_hecho_dia', 'Monday', 'Tuesday', 'Wednesday', 'Thursday',\n",
    "                       'Friday', 'Saturday', 'Sunday', 'hora_hecho_hora', '0', '1', '2', \n",
    "                       '3', '4', '5', '6', '7', '8', '9', '10', '11', '12', '13', '14', \n",
    "                       '15', '16', '17', '18', '19', '20', '21', '22', '23', 'Dias', \n",
    "                       'sexo', 'Femenino', 'Masculino', 'edad', 'personas', 'Victima', \n",
    "                       'Victima_y_Otra', 'latitud', 'longitud',] ]"
   ]
  },
  {
   "cell_type": "code",
   "execution_count": null,
   "metadata": {},
   "outputs": [],
   "source": [
    "#\n",
    "\n",
    "Datos_OLD_ML.info()"
   ]
  },
  {
   "cell_type": "code",
   "execution_count": null,
   "metadata": {},
   "outputs": [],
   "source": [
    "#\n",
    "\n",
    "Datos_OLD_ML.describe()"
   ]
  },
  {
   "cell_type": "code",
   "execution_count": null,
   "metadata": {},
   "outputs": [],
   "source": [
    "# Seleccionamos solo los casos de interés para Dataset 01\n",
    "\n",
    "Datos_OLD_ML = Datos_OLD_ML[ ( Datos_OLD_ML['categoria_delito'] == 'DELITO DE BAJO IMPACTO' ) | \\\n",
    "                             ( Datos_OLD_ML['categoria_delito'] == 'ROBO A TRANSEUNTE EN VÍA PÚBLICA CON Y SIN VIOLENCIA' ) ]\n"
   ]
  },
  {
   "cell_type": "code",
   "execution_count": null,
   "metadata": {},
   "outputs": [],
   "source": [
    "# Variable categórica:\n",
    "Datos_OLD_ML[ 'Delito' ] = 0\n",
    "\n",
    "Datos_OLD_ML.loc[ Datos_OLD_ML['categoria_delito'] == 'ROBO A TRANSEUNTE EN VÍA PÚBLICA CON Y SIN VIOLENCIA', 'Delito'] = 1\n",
    "\n",
    "#\n",
    "Datos_OLD_ML.shape\n"
   ]
  },
  {
   "cell_type": "code",
   "execution_count": null,
   "metadata": {},
   "outputs": [],
   "source": [
    "#\n",
    "\n",
    "sn.countplot( x = 'Delito', data = Datos_OLD_ML)\n",
    "\n",
    "plt.show()"
   ]
  },
  {
   "cell_type": "code",
   "execution_count": null,
   "metadata": {},
   "outputs": [],
   "source": [
    "#\n",
    "Datos_OLD_ML.Delito.describe()"
   ]
  },
  {
   "cell_type": "code",
   "execution_count": null,
   "metadata": {},
   "outputs": [],
   "source": [
    "#\n",
    "\n",
    "Datos_OLD_ML[ 'Constante' ] = 1\n",
    "\n",
    "X_New = Datos_OLD_ML[[ 'Constante', 'Monday', 'Tuesday', 'Wednesday', 'Thursday', 'Friday', 'Saturday', \n",
    "                   '1', '2', '3', '4', '5', '6', '7', '8', '9', '10', '11', '12', '13', '14', \n",
    "                   '15', '16', '17', '18', '19', '20', '21', '22', '23', \n",
    "                   'Femenino', 'Victima', 'Dias', 'edad', 'latitud', 'longitud']]\n",
    "\n",
    "Datos_OLD_ML[ 'Delito_Predict' ] = logreg.predict(X_New)"
   ]
  },
  {
   "cell_type": "code",
   "execution_count": null,
   "metadata": {},
   "outputs": [],
   "source": [
    "#\n",
    "\n",
    "sn.countplot( x = 'Delito_Predict', data = Datos_OLD_ML)\n",
    "\n",
    "plt.show()"
   ]
  },
  {
   "cell_type": "code",
   "execution_count": null,
   "metadata": {},
   "outputs": [],
   "source": [
    "#\n",
    "Datos_OLD_ML.Delito_Predict.describe()"
   ]
  },
  {
   "cell_type": "code",
   "execution_count": null,
   "metadata": {},
   "outputs": [],
   "source": []
  }
 ],
 "metadata": {
  "kernelspec": {
   "display_name": "Python 3 (ipykernel)",
   "language": "python",
   "name": "python3"
  },
  "language_info": {
   "codemirror_mode": {
    "name": "ipython",
    "version": 3
   },
   "file_extension": ".py",
   "mimetype": "text/x-python",
   "name": "python",
   "nbconvert_exporter": "python",
   "pygments_lexer": "ipython3",
   "version": "3.10.14"
  }
 },
 "nbformat": 4,
 "nbformat_minor": 4
}
